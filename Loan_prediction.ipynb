{
  "nbformat": 4,
  "nbformat_minor": 0,
  "metadata": {
    "colab": {
      "provenance": [],
      "collapsed_sections": [
        "vncDsAP0Gaoa",
        "FJNUwmbgGyua",
        "w6K7xa23Elo4",
        "yQaldy8SH6Dl",
        "mDgbUHAGgjLW",
        "Y3lxredqlCYt",
        "3RnN4peoiCZX",
        "x71ZqKXriCWQ",
        "7hBIi_osiCS2",
        "35m5QtbWiB9F",
        "PBTbrJXOngz2",
        "u3PMJOP6ngxN",
        "dauF4eBmngu3",
        "bKJF3rekwFvQ",
        "MSa1f5Uengrz",
        "0wOQAZs5pc--",
        "K5QZ13OEpz2H",
        "lQ7QKXXCp7Bj",
        "448CDAPjqfQr",
        "KSlN3yHqYklG",
        "t6dVpIINYklI",
        "ijmpgYnKYklI",
        "-JiQyfWJYklI",
        "EM7whBJCYoAo",
        "fge-S5ZAYoAp",
        "85gYPyotYoAp",
        "RoGjAbkUYoAp",
        "4Of9eVA-YrdM",
        "iky9q4vBYrdO",
        "F6T5p64dYrdO",
        "y-Ehk30pYrdP",
        "bamQiAODYuh1",
        "QHF8YVU7Yuh3",
        "GwzvFGzlYuh3",
        "qYpmQ266Yuh3",
        "OH-pJp9IphqM",
        "bbFf2-_FphqN",
        "_ouA3fa0phqN",
        "Seke61FWphqN",
        "PIIx-8_IphqN",
        "t27r6nlMphqO",
        "r2jJGEOYphqO",
        "b0JNsNcRphqO",
        "BZR9WyysphqO",
        "jj7wYXLtphqO",
        "eZrbJ2SmphqO",
        "rFu4xreNphqO",
        "YJ55k-q6phqO",
        "gCFgpxoyphqP",
        "OVtJsKN_phqQ",
        "lssrdh5qphqQ",
        "U2RJ9gkRphqQ",
        "1M8mcRywphqQ",
        "tgIPom80phqQ",
        "JMzcOPDDphqR",
        "x-EpHcCOp1ci",
        "n3dbpmDWp1ck",
        "ylSl6qgtp1ck",
        "Ag9LCva-p1cl",
        "NC_X3p0fY2L0",
        "UV0SzAkaZNRQ",
        "YPEH6qLeZNRQ",
        "67NQN5KX2AMe",
        "qjKvONjwE8ra",
        "7AN1z2sKpx6M",
        "h_CCil-SKHpo",
        "cBFFvTBNJzUa",
        "HvGl1hHyA_VK",
        "KH5McJBi2d8v",
        "iW_Lq9qf2h6X",
        "-Kee-DAl2viO"
      ]
    },
    "kernelspec": {
      "name": "python3",
      "display_name": "Python 3"
    },
    "language_info": {
      "name": "python"
    }
  },
  "cells": [
    {
      "cell_type": "markdown",
      "source": [
        "Answer Here.\n",
        "There is a class imbalance in this dataset.So that \"Cross Validation Technique\" is used and checked for accuracy."
      ],
      "metadata": {
        "id": "C7Bo66f3_hh-"
      }
    },
    {
      "cell_type": "markdown",
      "source": [
        "# **Project Name**    - Predicting Loan Default Risk\n",
        "\n",
        "\n",
        "\n"
      ],
      "metadata": {
        "id": "vncDsAP0Gaoa"
      }
    },
    {
      "cell_type": "markdown",
      "source": [
        "##### **Project Type**    - EDA/Regression/Classification/Unsupervised\n",
        "##### **Contribution**    - Individual/Team\n",
        "##### **Team Member 1 -**  Ansh Chauhan(2210990132)\n",
        "##### **Team Member 2 -**  Armaan Sharma(2210990158)\n",
        "##### **Team Member 3 -**  Apram Saini(2210990148)\n",
        "##### **Team Member 4 -**  Ananya(2210990109)"
      ],
      "metadata": {
        "id": "beRrZCGUAJYm"
      }
    },
    {
      "cell_type": "markdown",
      "source": [
        "# **Project Summary -**  "
      ],
      "metadata": {
        "id": "FJNUwmbgGyua"
      }
    },
    {
      "cell_type": "markdown",
      "source": [
        "Write the summary here within 500-600 words."
      ],
      "metadata": {
        "id": "F6v_1wHtG2nS"
      }
    },
    {
      "cell_type": "markdown",
      "source": [
        "# **GitHub Link -**"
      ],
      "metadata": {
        "id": "w6K7xa23Elo4"
      }
    },
    {
      "cell_type": "markdown",
      "source": [
        "Provide your GitHub Link here."
      ],
      "metadata": {
        "id": "h1o69JH3Eqqn"
      }
    },
    {
      "cell_type": "markdown",
      "source": [
        "# **Problem Statement**\n",
        "Develop a model to predict the risk of loan default for borrowers based on features such as credit score, income, employment history, etc. This project involves data preprocessing, feature engineering, and training a binary classification model using algorithms like logistic regression, decision trees, or gradient boosting."
      ],
      "metadata": {
        "id": "yQaldy8SH6Dl"
      }
    },
    {
      "cell_type": "markdown",
      "source": [
        "**Write Problem Statement Here.**"
      ],
      "metadata": {
        "id": "DpeJGUA3kjGy"
      }
    },
    {
      "cell_type": "markdown",
      "source": [
        "# **General Guidelines** : -  "
      ],
      "metadata": {
        "id": "mDgbUHAGgjLW"
      }
    },
    {
      "cell_type": "markdown",
      "source": [
        "1.   Well-structured, formatted, and commented code is required.\n",
        "2.   Exception Handling, Production Grade Code & Deployment Ready Code will be a plus. Those students will be awarded some additional credits.\n",
        "     \n",
        "     The additional credits will have advantages over other students during Star Student selection.\n",
        "       \n",
        "             [ Note: - Deployment Ready Code is defined as, the whole .ipynb notebook should be executable in one go\n",
        "                       without a single error logged. ]\n",
        "\n",
        "3.   Each and every logic should have proper comments.\n",
        "4. You may add as many number of charts you want. Make Sure for each and every chart the following format should be answered.\n",
        "        \n",
        "\n",
        "```\n",
        "# Chart visualization code\n",
        "```\n",
        "            \n",
        "\n",
        "*   Why did you pick the specific chart?\n",
        "*   What is/are the insight(s) found from the chart?\n",
        "* Will the gained insights help creating a positive business impact?\n",
        "Are there any insights that lead to negative growth? Justify with specific reason.\n",
        "\n",
        "5. You have to create at least 15 logical & meaningful charts having important insights.\n",
        "\n",
        "\n",
        "[ Hints : - Do the Vizualization in  a structured way while following \"UBM\" Rule.\n",
        "\n",
        "U - Univariate Analysis,\n",
        "\n",
        "B - Bivariate Analysis (Numerical - Categorical, Numerical - Numerical, Categorical - Categorical)\n",
        "\n",
        "M - Multivariate Analysis\n",
        " ]\n",
        "\n",
        "\n",
        "\n",
        "\n",
        "\n",
        "6. You may add more ml algorithms for model creation. Make sure for each and every algorithm, the following format should be answered.\n",
        "\n",
        "\n",
        "*   Explain the ML Model used and it's performance using Evaluation metric Score Chart.\n",
        "\n",
        "\n",
        "*   Cross- Validation & Hyperparameter Tuning\n",
        "\n",
        "*   Have you seen any improvement? Note down the improvement with updates Evaluation metric Score Chart.\n",
        "\n",
        "*   Explain each evaluation metric's indication towards business and the business impact pf the ML model used.\n",
        "\n",
        "\n",
        "\n",
        "\n",
        "\n",
        "\n",
        "\n",
        "\n",
        "\n",
        "\n",
        "\n",
        "\n",
        "\n",
        "\n",
        "\n",
        "\n",
        "\n",
        "\n"
      ],
      "metadata": {
        "id": "ZrxVaUj-hHfC"
      }
    },
    {
      "cell_type": "markdown",
      "source": [
        "# ***Let's Begin !***"
      ],
      "metadata": {
        "id": "O_i_v8NEhb9l"
      }
    },
    {
      "cell_type": "markdown",
      "source": [
        "## ***1. Know Your Data***"
      ],
      "metadata": {
        "id": "HhfV-JJviCcP"
      }
    },
    {
      "cell_type": "markdown",
      "source": [
        "### Import Libraries"
      ],
      "metadata": {
        "id": "Y3lxredqlCYt"
      }
    },
    {
      "cell_type": "code",
      "source": [
        "\n",
        "# Import Libraries\n",
        "import pandas as pd\n",
        "import numpy as np\n",
        "import matplotlib.pyplot as plt\n",
        "import seaborn as sns\n",
        "import plotly.express as px\n",
        "import plotly.offline as pyo\n",
        "import plotly.graph_objs as go\n",
        "from matplotlib.ticker import ScalarFormatter"
      ],
      "metadata": {
        "id": "M8Vqi-pPk-HR"
      },
      "execution_count": null,
      "outputs": []
    },
    {
      "cell_type": "markdown",
      "source": [
        "### Dataset Loading"
      ],
      "metadata": {
        "id": "3RnN4peoiCZX"
      }
    },
    {
      "cell_type": "code",
      "source": [
        "# Load Dataset\n",
        "data = pd.read_csv('/content/Loan_default 3.csv')"
      ],
      "metadata": {
        "id": "4CkvbW_SlZ_R"
      },
      "execution_count": null,
      "outputs": []
    },
    {
      "cell_type": "markdown",
      "source": [
        "### Dataset First View"
      ],
      "metadata": {
        "id": "x71ZqKXriCWQ"
      }
    },
    {
      "cell_type": "code",
      "source": [
        "# Dataset First Look\n",
        "data.head()"
      ],
      "metadata": {
        "id": "LWNFOSvLl09H",
        "colab": {
          "base_uri": "https://localhost:8080/"
        },
        "outputId": "c254aa2a-6bed-4fdc-944d-2e3a2da46e95"
      },
      "execution_count": null,
      "outputs": [
        {
          "output_type": "execute_result",
          "data": {
            "text/plain": [
              "       LoanID  Age  Income  LoanAmount  CreditScore  MonthsEmployed  \\\n",
              "0  I38PQUQS96   56   85994       50587          520              80   \n",
              "1  HPSK72WA7R   69   50432      124440          458              15   \n",
              "2  C1OZ6DPJ8Y   46   84208      129188          451              26   \n",
              "3  V2KKSFM3UN   32   31713       44799          743               0   \n",
              "4  EY08JDHTZP   60   20437        9139          633               8   \n",
              "\n",
              "   NumCreditLines  InterestRate  LoanTerm  DTIRatio    Education  \\\n",
              "0               4         15.23        36      0.44   Bachelor's   \n",
              "1               1          4.81        60      0.68     Master's   \n",
              "2               3         21.17        24      0.31     Master's   \n",
              "3               3          7.07        24      0.23  High School   \n",
              "4               4          6.51        48      0.73   Bachelor's   \n",
              "\n",
              "  EmploymentType MaritalStatus HasMortgage HasDependents LoanPurpose  \\\n",
              "0      Full-time      Divorced         Yes           Yes       Other   \n",
              "1      Full-time       Married          No            No       Other   \n",
              "2     Unemployed      Divorced         Yes           Yes        Auto   \n",
              "3      Full-time       Married          No            No    Business   \n",
              "4     Unemployed      Divorced          No           Yes        Auto   \n",
              "\n",
              "  HasCoSigner  Default  \n",
              "0         Yes        0  \n",
              "1         Yes        0  \n",
              "2          No        1  \n",
              "3          No        0  \n",
              "4          No        0  "
            ],
            "text/html": [
              "\n",
              "  <div id=\"df-215d1993-e8a8-4be3-8290-7db77152ecb3\" class=\"colab-df-container\">\n",
              "    <div>\n",
              "<style scoped>\n",
              "    .dataframe tbody tr th:only-of-type {\n",
              "        vertical-align: middle;\n",
              "    }\n",
              "\n",
              "    .dataframe tbody tr th {\n",
              "        vertical-align: top;\n",
              "    }\n",
              "\n",
              "    .dataframe thead th {\n",
              "        text-align: right;\n",
              "    }\n",
              "</style>\n",
              "<table border=\"1\" class=\"dataframe\">\n",
              "  <thead>\n",
              "    <tr style=\"text-align: right;\">\n",
              "      <th></th>\n",
              "      <th>LoanID</th>\n",
              "      <th>Age</th>\n",
              "      <th>Income</th>\n",
              "      <th>LoanAmount</th>\n",
              "      <th>CreditScore</th>\n",
              "      <th>MonthsEmployed</th>\n",
              "      <th>NumCreditLines</th>\n",
              "      <th>InterestRate</th>\n",
              "      <th>LoanTerm</th>\n",
              "      <th>DTIRatio</th>\n",
              "      <th>Education</th>\n",
              "      <th>EmploymentType</th>\n",
              "      <th>MaritalStatus</th>\n",
              "      <th>HasMortgage</th>\n",
              "      <th>HasDependents</th>\n",
              "      <th>LoanPurpose</th>\n",
              "      <th>HasCoSigner</th>\n",
              "      <th>Default</th>\n",
              "    </tr>\n",
              "  </thead>\n",
              "  <tbody>\n",
              "    <tr>\n",
              "      <th>0</th>\n",
              "      <td>I38PQUQS96</td>\n",
              "      <td>56</td>\n",
              "      <td>85994</td>\n",
              "      <td>50587</td>\n",
              "      <td>520</td>\n",
              "      <td>80</td>\n",
              "      <td>4</td>\n",
              "      <td>15.23</td>\n",
              "      <td>36</td>\n",
              "      <td>0.44</td>\n",
              "      <td>Bachelor's</td>\n",
              "      <td>Full-time</td>\n",
              "      <td>Divorced</td>\n",
              "      <td>Yes</td>\n",
              "      <td>Yes</td>\n",
              "      <td>Other</td>\n",
              "      <td>Yes</td>\n",
              "      <td>0</td>\n",
              "    </tr>\n",
              "    <tr>\n",
              "      <th>1</th>\n",
              "      <td>HPSK72WA7R</td>\n",
              "      <td>69</td>\n",
              "      <td>50432</td>\n",
              "      <td>124440</td>\n",
              "      <td>458</td>\n",
              "      <td>15</td>\n",
              "      <td>1</td>\n",
              "      <td>4.81</td>\n",
              "      <td>60</td>\n",
              "      <td>0.68</td>\n",
              "      <td>Master's</td>\n",
              "      <td>Full-time</td>\n",
              "      <td>Married</td>\n",
              "      <td>No</td>\n",
              "      <td>No</td>\n",
              "      <td>Other</td>\n",
              "      <td>Yes</td>\n",
              "      <td>0</td>\n",
              "    </tr>\n",
              "    <tr>\n",
              "      <th>2</th>\n",
              "      <td>C1OZ6DPJ8Y</td>\n",
              "      <td>46</td>\n",
              "      <td>84208</td>\n",
              "      <td>129188</td>\n",
              "      <td>451</td>\n",
              "      <td>26</td>\n",
              "      <td>3</td>\n",
              "      <td>21.17</td>\n",
              "      <td>24</td>\n",
              "      <td>0.31</td>\n",
              "      <td>Master's</td>\n",
              "      <td>Unemployed</td>\n",
              "      <td>Divorced</td>\n",
              "      <td>Yes</td>\n",
              "      <td>Yes</td>\n",
              "      <td>Auto</td>\n",
              "      <td>No</td>\n",
              "      <td>1</td>\n",
              "    </tr>\n",
              "    <tr>\n",
              "      <th>3</th>\n",
              "      <td>V2KKSFM3UN</td>\n",
              "      <td>32</td>\n",
              "      <td>31713</td>\n",
              "      <td>44799</td>\n",
              "      <td>743</td>\n",
              "      <td>0</td>\n",
              "      <td>3</td>\n",
              "      <td>7.07</td>\n",
              "      <td>24</td>\n",
              "      <td>0.23</td>\n",
              "      <td>High School</td>\n",
              "      <td>Full-time</td>\n",
              "      <td>Married</td>\n",
              "      <td>No</td>\n",
              "      <td>No</td>\n",
              "      <td>Business</td>\n",
              "      <td>No</td>\n",
              "      <td>0</td>\n",
              "    </tr>\n",
              "    <tr>\n",
              "      <th>4</th>\n",
              "      <td>EY08JDHTZP</td>\n",
              "      <td>60</td>\n",
              "      <td>20437</td>\n",
              "      <td>9139</td>\n",
              "      <td>633</td>\n",
              "      <td>8</td>\n",
              "      <td>4</td>\n",
              "      <td>6.51</td>\n",
              "      <td>48</td>\n",
              "      <td>0.73</td>\n",
              "      <td>Bachelor's</td>\n",
              "      <td>Unemployed</td>\n",
              "      <td>Divorced</td>\n",
              "      <td>No</td>\n",
              "      <td>Yes</td>\n",
              "      <td>Auto</td>\n",
              "      <td>No</td>\n",
              "      <td>0</td>\n",
              "    </tr>\n",
              "  </tbody>\n",
              "</table>\n",
              "</div>\n",
              "    <div class=\"colab-df-buttons\">\n",
              "\n",
              "  <div class=\"colab-df-container\">\n",
              "    <button class=\"colab-df-convert\" onclick=\"convertToInteractive('df-215d1993-e8a8-4be3-8290-7db77152ecb3')\"\n",
              "            title=\"Convert this dataframe to an interactive table.\"\n",
              "            style=\"display:none;\">\n",
              "\n",
              "  <svg xmlns=\"http://www.w3.org/2000/svg\" height=\"24px\" viewBox=\"0 -960 960 960\">\n",
              "    <path d=\"M120-120v-720h720v720H120Zm60-500h600v-160H180v160Zm220 220h160v-160H400v160Zm0 220h160v-160H400v160ZM180-400h160v-160H180v160Zm440 0h160v-160H620v160ZM180-180h160v-160H180v160Zm440 0h160v-160H620v160Z\"/>\n",
              "  </svg>\n",
              "    </button>\n",
              "\n",
              "  <style>\n",
              "    .colab-df-container {\n",
              "      display:flex;\n",
              "      gap: 12px;\n",
              "    }\n",
              "\n",
              "    .colab-df-convert {\n",
              "      background-color: #E8F0FE;\n",
              "      border: none;\n",
              "      border-radius: 50%;\n",
              "      cursor: pointer;\n",
              "      display: none;\n",
              "      fill: #1967D2;\n",
              "      height: 32px;\n",
              "      padding: 0 0 0 0;\n",
              "      width: 32px;\n",
              "    }\n",
              "\n",
              "    .colab-df-convert:hover {\n",
              "      background-color: #E2EBFA;\n",
              "      box-shadow: 0px 1px 2px rgba(60, 64, 67, 0.3), 0px 1px 3px 1px rgba(60, 64, 67, 0.15);\n",
              "      fill: #174EA6;\n",
              "    }\n",
              "\n",
              "    .colab-df-buttons div {\n",
              "      margin-bottom: 4px;\n",
              "    }\n",
              "\n",
              "    [theme=dark] .colab-df-convert {\n",
              "      background-color: #3B4455;\n",
              "      fill: #D2E3FC;\n",
              "    }\n",
              "\n",
              "    [theme=dark] .colab-df-convert:hover {\n",
              "      background-color: #434B5C;\n",
              "      box-shadow: 0px 1px 3px 1px rgba(0, 0, 0, 0.15);\n",
              "      filter: drop-shadow(0px 1px 2px rgba(0, 0, 0, 0.3));\n",
              "      fill: #FFFFFF;\n",
              "    }\n",
              "  </style>\n",
              "\n",
              "    <script>\n",
              "      const buttonEl =\n",
              "        document.querySelector('#df-215d1993-e8a8-4be3-8290-7db77152ecb3 button.colab-df-convert');\n",
              "      buttonEl.style.display =\n",
              "        google.colab.kernel.accessAllowed ? 'block' : 'none';\n",
              "\n",
              "      async function convertToInteractive(key) {\n",
              "        const element = document.querySelector('#df-215d1993-e8a8-4be3-8290-7db77152ecb3');\n",
              "        const dataTable =\n",
              "          await google.colab.kernel.invokeFunction('convertToInteractive',\n",
              "                                                    [key], {});\n",
              "        if (!dataTable) return;\n",
              "\n",
              "        const docLinkHtml = 'Like what you see? Visit the ' +\n",
              "          '<a target=\"_blank\" href=https://colab.research.google.com/notebooks/data_table.ipynb>data table notebook</a>'\n",
              "          + ' to learn more about interactive tables.';\n",
              "        element.innerHTML = '';\n",
              "        dataTable['output_type'] = 'display_data';\n",
              "        await google.colab.output.renderOutput(dataTable, element);\n",
              "        const docLink = document.createElement('div');\n",
              "        docLink.innerHTML = docLinkHtml;\n",
              "        element.appendChild(docLink);\n",
              "      }\n",
              "    </script>\n",
              "  </div>\n",
              "\n",
              "\n",
              "<div id=\"df-fb9535e9-94f4-44fc-8242-a2aa166b88ed\">\n",
              "  <button class=\"colab-df-quickchart\" onclick=\"quickchart('df-fb9535e9-94f4-44fc-8242-a2aa166b88ed')\"\n",
              "            title=\"Suggest charts\"\n",
              "            style=\"display:none;\">\n",
              "\n",
              "<svg xmlns=\"http://www.w3.org/2000/svg\" height=\"24px\"viewBox=\"0 0 24 24\"\n",
              "     width=\"24px\">\n",
              "    <g>\n",
              "        <path d=\"M19 3H5c-1.1 0-2 .9-2 2v14c0 1.1.9 2 2 2h14c1.1 0 2-.9 2-2V5c0-1.1-.9-2-2-2zM9 17H7v-7h2v7zm4 0h-2V7h2v10zm4 0h-2v-4h2v4z\"/>\n",
              "    </g>\n",
              "</svg>\n",
              "  </button>\n",
              "\n",
              "<style>\n",
              "  .colab-df-quickchart {\n",
              "      --bg-color: #E8F0FE;\n",
              "      --fill-color: #1967D2;\n",
              "      --hover-bg-color: #E2EBFA;\n",
              "      --hover-fill-color: #174EA6;\n",
              "      --disabled-fill-color: #AAA;\n",
              "      --disabled-bg-color: #DDD;\n",
              "  }\n",
              "\n",
              "  [theme=dark] .colab-df-quickchart {\n",
              "      --bg-color: #3B4455;\n",
              "      --fill-color: #D2E3FC;\n",
              "      --hover-bg-color: #434B5C;\n",
              "      --hover-fill-color: #FFFFFF;\n",
              "      --disabled-bg-color: #3B4455;\n",
              "      --disabled-fill-color: #666;\n",
              "  }\n",
              "\n",
              "  .colab-df-quickchart {\n",
              "    background-color: var(--bg-color);\n",
              "    border: none;\n",
              "    border-radius: 50%;\n",
              "    cursor: pointer;\n",
              "    display: none;\n",
              "    fill: var(--fill-color);\n",
              "    height: 32px;\n",
              "    padding: 0;\n",
              "    width: 32px;\n",
              "  }\n",
              "\n",
              "  .colab-df-quickchart:hover {\n",
              "    background-color: var(--hover-bg-color);\n",
              "    box-shadow: 0 1px 2px rgba(60, 64, 67, 0.3), 0 1px 3px 1px rgba(60, 64, 67, 0.15);\n",
              "    fill: var(--button-hover-fill-color);\n",
              "  }\n",
              "\n",
              "  .colab-df-quickchart-complete:disabled,\n",
              "  .colab-df-quickchart-complete:disabled:hover {\n",
              "    background-color: var(--disabled-bg-color);\n",
              "    fill: var(--disabled-fill-color);\n",
              "    box-shadow: none;\n",
              "  }\n",
              "\n",
              "  .colab-df-spinner {\n",
              "    border: 2px solid var(--fill-color);\n",
              "    border-color: transparent;\n",
              "    border-bottom-color: var(--fill-color);\n",
              "    animation:\n",
              "      spin 1s steps(1) infinite;\n",
              "  }\n",
              "\n",
              "  @keyframes spin {\n",
              "    0% {\n",
              "      border-color: transparent;\n",
              "      border-bottom-color: var(--fill-color);\n",
              "      border-left-color: var(--fill-color);\n",
              "    }\n",
              "    20% {\n",
              "      border-color: transparent;\n",
              "      border-left-color: var(--fill-color);\n",
              "      border-top-color: var(--fill-color);\n",
              "    }\n",
              "    30% {\n",
              "      border-color: transparent;\n",
              "      border-left-color: var(--fill-color);\n",
              "      border-top-color: var(--fill-color);\n",
              "      border-right-color: var(--fill-color);\n",
              "    }\n",
              "    40% {\n",
              "      border-color: transparent;\n",
              "      border-right-color: var(--fill-color);\n",
              "      border-top-color: var(--fill-color);\n",
              "    }\n",
              "    60% {\n",
              "      border-color: transparent;\n",
              "      border-right-color: var(--fill-color);\n",
              "    }\n",
              "    80% {\n",
              "      border-color: transparent;\n",
              "      border-right-color: var(--fill-color);\n",
              "      border-bottom-color: var(--fill-color);\n",
              "    }\n",
              "    90% {\n",
              "      border-color: transparent;\n",
              "      border-bottom-color: var(--fill-color);\n",
              "    }\n",
              "  }\n",
              "</style>\n",
              "\n",
              "  <script>\n",
              "    async function quickchart(key) {\n",
              "      const quickchartButtonEl =\n",
              "        document.querySelector('#' + key + ' button');\n",
              "      quickchartButtonEl.disabled = true;  // To prevent multiple clicks.\n",
              "      quickchartButtonEl.classList.add('colab-df-spinner');\n",
              "      try {\n",
              "        const charts = await google.colab.kernel.invokeFunction(\n",
              "            'suggestCharts', [key], {});\n",
              "      } catch (error) {\n",
              "        console.error('Error during call to suggestCharts:', error);\n",
              "      }\n",
              "      quickchartButtonEl.classList.remove('colab-df-spinner');\n",
              "      quickchartButtonEl.classList.add('colab-df-quickchart-complete');\n",
              "    }\n",
              "    (() => {\n",
              "      let quickchartButtonEl =\n",
              "        document.querySelector('#df-fb9535e9-94f4-44fc-8242-a2aa166b88ed button');\n",
              "      quickchartButtonEl.style.display =\n",
              "        google.colab.kernel.accessAllowed ? 'block' : 'none';\n",
              "    })();\n",
              "  </script>\n",
              "</div>\n",
              "\n",
              "    </div>\n",
              "  </div>\n"
            ],
            "application/vnd.google.colaboratory.intrinsic+json": {
              "type": "dataframe",
              "variable_name": "data"
            }
          },
          "metadata": {},
          "execution_count": 3
        }
      ]
    },
    {
      "cell_type": "markdown",
      "source": [
        "### Dataset Rows & Columns count"
      ],
      "metadata": {
        "id": "7hBIi_osiCS2"
      }
    },
    {
      "cell_type": "code",
      "source": [
        "# Dataset Rows & Columns count\n",
        "data.shape"
      ],
      "metadata": {
        "id": "Kllu7SJgmLij",
        "colab": {
          "base_uri": "https://localhost:8080/"
        },
        "outputId": "397e1980-11e9-48be-f246-b72940e7d7df"
      },
      "execution_count": null,
      "outputs": [
        {
          "output_type": "execute_result",
          "data": {
            "text/plain": [
              "(255347, 18)"
            ]
          },
          "metadata": {},
          "execution_count": 4
        }
      ]
    },
    {
      "cell_type": "markdown",
      "source": [
        "### Dataset Information"
      ],
      "metadata": {
        "id": "JlHwYmJAmNHm"
      }
    },
    {
      "cell_type": "code",
      "source": [
        "# Dataset Info\n",
        "data.info()"
      ],
      "metadata": {
        "id": "e9hRXRi6meOf",
        "colab": {
          "base_uri": "https://localhost:8080/"
        },
        "outputId": "d69deb1b-5d95-47ae-e52b-b85b4c19b124"
      },
      "execution_count": null,
      "outputs": [
        {
          "output_type": "stream",
          "name": "stdout",
          "text": [
            "<class 'pandas.core.frame.DataFrame'>\n",
            "RangeIndex: 255347 entries, 0 to 255346\n",
            "Data columns (total 18 columns):\n",
            " #   Column          Non-Null Count   Dtype  \n",
            "---  ------          --------------   -----  \n",
            " 0   LoanID          255347 non-null  object \n",
            " 1   Age             255347 non-null  int64  \n",
            " 2   Income          255347 non-null  int64  \n",
            " 3   LoanAmount      255347 non-null  int64  \n",
            " 4   CreditScore     255347 non-null  int64  \n",
            " 5   MonthsEmployed  255347 non-null  int64  \n",
            " 6   NumCreditLines  255347 non-null  int64  \n",
            " 7   InterestRate    255347 non-null  float64\n",
            " 8   LoanTerm        255347 non-null  int64  \n",
            " 9   DTIRatio        255347 non-null  float64\n",
            " 10  Education       255347 non-null  object \n",
            " 11  EmploymentType  255347 non-null  object \n",
            " 12  MaritalStatus   255347 non-null  object \n",
            " 13  HasMortgage     255347 non-null  object \n",
            " 14  HasDependents   255347 non-null  object \n",
            " 15  LoanPurpose     255347 non-null  object \n",
            " 16  HasCoSigner     255347 non-null  object \n",
            " 17  Default         255347 non-null  int64  \n",
            "dtypes: float64(2), int64(8), object(8)\n",
            "memory usage: 35.1+ MB\n"
          ]
        }
      ]
    },
    {
      "cell_type": "markdown",
      "source": [
        "#### Duplicate Values"
      ],
      "metadata": {
        "id": "35m5QtbWiB9F"
      }
    },
    {
      "cell_type": "code",
      "source": [
        "# Dataset Duplicate Value Count\n",
        "data.duplicated().sum()"
      ],
      "metadata": {
        "id": "1sLdpKYkmox0",
        "colab": {
          "base_uri": "https://localhost:8080/"
        },
        "outputId": "7b6888c0-0fbf-4d56-cc2d-58147c903a11"
      },
      "execution_count": null,
      "outputs": [
        {
          "output_type": "execute_result",
          "data": {
            "text/plain": [
              "0"
            ]
          },
          "metadata": {},
          "execution_count": 6
        }
      ]
    },
    {
      "cell_type": "markdown",
      "source": [
        "#### Missing Values/Null Values"
      ],
      "metadata": {
        "id": "PoPl-ycgm1ru"
      }
    },
    {
      "cell_type": "code",
      "source": [
        "# Missing Values/Null Values Count\n",
        "missing_values=data.isnull().sum()\n",
        "missing_values"
      ],
      "metadata": {
        "id": "GgHWkxvamxVg",
        "colab": {
          "base_uri": "https://localhost:8080/"
        },
        "outputId": "29542b5e-3afa-4732-e90c-971bfc51f457"
      },
      "execution_count": null,
      "outputs": [
        {
          "output_type": "execute_result",
          "data": {
            "text/plain": [
              "LoanID            0\n",
              "Age               0\n",
              "Income            0\n",
              "LoanAmount        0\n",
              "CreditScore       0\n",
              "MonthsEmployed    0\n",
              "NumCreditLines    0\n",
              "InterestRate      0\n",
              "LoanTerm          0\n",
              "DTIRatio          0\n",
              "Education         0\n",
              "EmploymentType    0\n",
              "MaritalStatus     0\n",
              "HasMortgage       0\n",
              "HasDependents     0\n",
              "LoanPurpose       0\n",
              "HasCoSigner       0\n",
              "Default           0\n",
              "dtype: int64"
            ]
          },
          "metadata": {},
          "execution_count": 7
        }
      ]
    },
    {
      "cell_type": "code",
      "source": [
        "# Visualizing the missing values (done using matplotlib(barplot))\n",
        "missing_values.plot(kind='bar',rot=45)\n",
        "plt.title('Missing Values')\n",
        "plt.xlabel('Features')\n",
        "plt.ylabel('Count of Missing Values')\n",
        "plt.show()"
      ],
      "metadata": {
        "id": "3q5wnI3om9sJ",
        "colab": {
          "base_uri": "https://localhost:8080/",
          "height": 552
        },
        "outputId": "a28889b3-8ee7-445e-9bd7-2cbef6cc0f67"
      },
      "execution_count": null,
      "outputs": [
        {
          "output_type": "display_data",
          "data": {
            "text/plain": [
              "<Figure size 640x480 with 1 Axes>"
            ],
            "image/png": "[encoded data removed]"
          },
          "metadata": {}
        }
      ]
    },
    {
      "cell_type": "markdown",
      "source": [
        "### What did you know about your dataset?"
      ],
      "metadata": {
        "id": "H0kj-8xxnORC"
      }
    },
    {
      "cell_type": "markdown",
      "source": [
        "The dataset contains information on various loan applicants. Each row represents a different property, and each column represents a different feature of that property such as LoanID, age, income, loan amount etc."
      ],
      "metadata": {
        "id": "gfoNAAC-nUe_"
      }
    },
    {
      "cell_type": "markdown",
      "source": [
        "## ***2. Understanding Your Variables***"
      ],
      "metadata": {
        "id": "nA9Y7ga8ng1Z"
      }
    },
    {
      "cell_type": "code",
      "source": [
        "# Dataset Columns\n",
        "data.columns"
      ],
      "metadata": {
        "id": "j7xfkqrt5Ag5",
        "colab": {
          "base_uri": "https://localhost:8080/"
        },
        "outputId": "526d2fff-bb0a-42f1-a8d1-75ba99858ace"
      },
      "execution_count": null,
      "outputs": [
        {
          "output_type": "execute_result",
          "data": {
            "text/plain": [
              "Index(['LoanID', 'Age', 'Income', 'LoanAmount', 'CreditScore',\n",
              "       'MonthsEmployed', 'NumCreditLines', 'InterestRate', 'LoanTerm',\n",
              "       'DTIRatio', 'Education', 'EmploymentType', 'MaritalStatus',\n",
              "       'HasMortgage', 'HasDependents', 'LoanPurpose', 'HasCoSigner',\n",
              "       'Default'],\n",
              "      dtype='object')"
            ]
          },
          "metadata": {},
          "execution_count": 9
        }
      ]
    },
    {
      "cell_type": "code",
      "source": [
        "# Dataset Describe\n",
        "data.describe()"
      ],
      "metadata": {
        "id": "DnOaZdaE5Q5t",
        "colab": {
          "base_uri": "https://localhost:8080/",
          "height": 300
        },
        "outputId": "249318a9-2c9d-4257-a135-826a79ef5d05"
      },
      "execution_count": null,
      "outputs": [
        {
          "output_type": "execute_result",
          "data": {
            "text/plain": [
              "                 Age         Income     LoanAmount    CreditScore  \\\n",
              "count  255347.000000  255347.000000  255347.000000  255347.000000   \n",
              "mean       43.498306   82499.304597  127578.865512     574.264346   \n",
              "std        14.990258   38963.013729   70840.706142     158.903867   \n",
              "min        18.000000   15000.000000    5000.000000     300.000000   \n",
              "25%        31.000000   48825.500000   66156.000000     437.000000   \n",
              "50%        43.000000   82466.000000  127556.000000     574.000000   \n",
              "75%        56.000000  116219.000000  188985.000000     712.000000   \n",
              "max        69.000000  149999.000000  249999.000000     849.000000   \n",
              "\n",
              "       MonthsEmployed  NumCreditLines   InterestRate       LoanTerm  \\\n",
              "count   255347.000000   255347.000000  255347.000000  255347.000000   \n",
              "mean        59.541976        2.501036      13.492773      36.025894   \n",
              "std         34.643376        1.117018       6.636443      16.969330   \n",
              "min          0.000000        1.000000       2.000000      12.000000   \n",
              "25%         30.000000        2.000000       7.770000      24.000000   \n",
              "50%         60.000000        2.000000      13.460000      36.000000   \n",
              "75%         90.000000        3.000000      19.250000      48.000000   \n",
              "max        119.000000        4.000000      25.000000      60.000000   \n",
              "\n",
              "            DTIRatio        Default  \n",
              "count  255347.000000  255347.000000  \n",
              "mean        0.500212       0.116128  \n",
              "std         0.230917       0.320379  \n",
              "min         0.100000       0.000000  \n",
              "25%         0.300000       0.000000  \n",
              "50%         0.500000       0.000000  \n",
              "75%         0.700000       0.000000  \n",
              "max         0.900000       1.000000  "
            ],
            "text/html": [
              "\n",
              "  <div id=\"df-6c6fc761-da97-40ba-a52f-3b1263640b75\" class=\"colab-df-container\">\n",
              "    <div>\n",
              "<style scoped>\n",
              "    .dataframe tbody tr th:only-of-type {\n",
              "        vertical-align: middle;\n",
              "    }\n",
              "\n",
              "    .dataframe tbody tr th {\n",
              "        vertical-align: top;\n",
              "    }\n",
              "\n",
              "    .dataframe thead th {\n",
              "        text-align: right;\n",
              "    }\n",
              "</style>\n",
              "<table border=\"1\" class=\"dataframe\">\n",
              "  <thead>\n",
              "    <tr style=\"text-align: right;\">\n",
              "      <th></th>\n",
              "      <th>Age</th>\n",
              "      <th>Income</th>\n",
              "      <th>LoanAmount</th>\n",
              "      <th>CreditScore</th>\n",
              "      <th>MonthsEmployed</th>\n",
              "      <th>NumCreditLines</th>\n",
              "      <th>InterestRate</th>\n",
              "      <th>LoanTerm</th>\n",
              "      <th>DTIRatio</th>\n",
              "      <th>Default</th>\n",
              "    </tr>\n",
              "  </thead>\n",
              "  <tbody>\n",
              "    <tr>\n",
              "      <th>count</th>\n",
              "      <td>255347.000000</td>\n",
              "      <td>255347.000000</td>\n",
              "      <td>255347.000000</td>\n",
              "      <td>255347.000000</td>\n",
              "      <td>255347.000000</td>\n",
              "      <td>255347.000000</td>\n",
              "      <td>255347.000000</td>\n",
              "      <td>255347.000000</td>\n",
              "      <td>255347.000000</td>\n",
              "      <td>255347.000000</td>\n",
              "    </tr>\n",
              "    <tr>\n",
              "      <th>mean</th>\n",
              "      <td>43.498306</td>\n",
              "      <td>82499.304597</td>\n",
              "      <td>127578.865512</td>\n",
              "      <td>574.264346</td>\n",
              "      <td>59.541976</td>\n",
              "      <td>2.501036</td>\n",
              "      <td>13.492773</td>\n",
              "      <td>36.025894</td>\n",
              "      <td>0.500212</td>\n",
              "      <td>0.116128</td>\n",
              "    </tr>\n",
              "    <tr>\n",
              "      <th>std</th>\n",
              "      <td>14.990258</td>\n",
              "      <td>38963.013729</td>\n",
              "      <td>70840.706142</td>\n",
              "      <td>158.903867</td>\n",
              "      <td>34.643376</td>\n",
              "      <td>1.117018</td>\n",
              "      <td>6.636443</td>\n",
              "      <td>16.969330</td>\n",
              "      <td>0.230917</td>\n",
              "      <td>0.320379</td>\n",
              "    </tr>\n",
              "    <tr>\n",
              "      <th>min</th>\n",
              "      <td>18.000000</td>\n",
              "      <td>15000.000000</td>\n",
              "      <td>5000.000000</td>\n",
              "      <td>300.000000</td>\n",
              "      <td>0.000000</td>\n",
              "      <td>1.000000</td>\n",
              "      <td>2.000000</td>\n",
              "      <td>12.000000</td>\n",
              "      <td>0.100000</td>\n",
              "      <td>0.000000</td>\n",
              "    </tr>\n",
              "    <tr>\n",
              "      <th>25%</th>\n",
              "      <td>31.000000</td>\n",
              "      <td>48825.500000</td>\n",
              "      <td>66156.000000</td>\n",
              "      <td>437.000000</td>\n",
              "      <td>30.000000</td>\n",
              "      <td>2.000000</td>\n",
              "      <td>7.770000</td>\n",
              "      <td>24.000000</td>\n",
              "      <td>0.300000</td>\n",
              "      <td>0.000000</td>\n",
              "    </tr>\n",
              "    <tr>\n",
              "      <th>50%</th>\n",
              "      <td>43.000000</td>\n",
              "      <td>82466.000000</td>\n",
              "      <td>127556.000000</td>\n",
              "      <td>574.000000</td>\n",
              "      <td>60.000000</td>\n",
              "      <td>2.000000</td>\n",
              "      <td>13.460000</td>\n",
              "      <td>36.000000</td>\n",
              "      <td>0.500000</td>\n",
              "      <td>0.000000</td>\n",
              "    </tr>\n",
              "    <tr>\n",
              "      <th>75%</th>\n",
              "      <td>56.000000</td>\n",
              "      <td>116219.000000</td>\n",
              "      <td>188985.000000</td>\n",
              "      <td>712.000000</td>\n",
              "      <td>90.000000</td>\n",
              "      <td>3.000000</td>\n",
              "      <td>19.250000</td>\n",
              "      <td>48.000000</td>\n",
              "      <td>0.700000</td>\n",
              "      <td>0.000000</td>\n",
              "    </tr>\n",
              "    <tr>\n",
              "      <th>max</th>\n",
              "      <td>69.000000</td>\n",
              "      <td>149999.000000</td>\n",
              "      <td>249999.000000</td>\n",
              "      <td>849.000000</td>\n",
              "      <td>119.000000</td>\n",
              "      <td>4.000000</td>\n",
              "      <td>25.000000</td>\n",
              "      <td>60.000000</td>\n",
              "      <td>0.900000</td>\n",
              "      <td>1.000000</td>\n",
              "    </tr>\n",
              "  </tbody>\n",
              "</table>\n",
              "</div>\n",
              "    <div class=\"colab-df-buttons\">\n",
              "\n",
              "  <div class=\"colab-df-container\">\n",
              "    <button class=\"colab-df-convert\" onclick=\"convertToInteractive('df-6c6fc761-da97-40ba-a52f-3b1263640b75')\"\n",
              "            title=\"Convert this dataframe to an interactive table.\"\n",
              "            style=\"display:none;\">\n",
              "\n",
              "  <svg xmlns=\"http://www.w3.org/2000/svg\" height=\"24px\" viewBox=\"0 -960 960 960\">\n",
              "    <path d=\"M120-120v-720h720v720H120Zm60-500h600v-160H180v160Zm220 220h160v-160H400v160Zm0 220h160v-160H400v160ZM180-400h160v-160H180v160Zm440 0h160v-160H620v160ZM180-180h160v-160H180v160Zm440 0h160v-160H620v160Z\"/>\n",
              "  </svg>\n",
              "    </button>\n",
              "\n",
              "  <style>\n",
              "    .colab-df-container {\n",
              "      display:flex;\n",
              "      gap: 12px;\n",
              "    }\n",
              "\n",
              "    .colab-df-convert {\n",
              "      background-color: #E8F0FE;\n",
              "      border: none;\n",
              "      border-radius: 50%;\n",
              "      cursor: pointer;\n",
              "      display: none;\n",
              "      fill: #1967D2;\n",
              "      height: 32px;\n",
              "      padding: 0 0 0 0;\n",
              "      width: 32px;\n",
              "    }\n",
              "\n",
              "    .colab-df-convert:hover {\n",
              "      background-color: #E2EBFA;\n",
              "      box-shadow: 0px 1px 2px rgba(60, 64, 67, 0.3), 0px 1px 3px 1px rgba(60, 64, 67, 0.15);\n",
              "      fill: #174EA6;\n",
              "    }\n",
              "\n",
              "    .colab-df-buttons div {\n",
              "      margin-bottom: 4px;\n",
              "    }\n",
              "\n",
              "    [theme=dark] .colab-df-convert {\n",
              "      background-color: #3B4455;\n",
              "      fill: #D2E3FC;\n",
              "    }\n",
              "\n",
              "    [theme=dark] .colab-df-convert:hover {\n",
              "      background-color: #434B5C;\n",
              "      box-shadow: 0px 1px 3px 1px rgba(0, 0, 0, 0.15);\n",
              "      filter: drop-shadow(0px 1px 2px rgba(0, 0, 0, 0.3));\n",
              "      fill: #FFFFFF;\n",
              "    }\n",
              "  </style>\n",
              "\n",
              "    <script>\n",
              "      const buttonEl =\n",
              "        document.querySelector('#df-6c6fc761-da97-40ba-a52f-3b1263640b75 button.colab-df-convert');\n",
              "      buttonEl.style.display =\n",
              "        google.colab.kernel.accessAllowed ? 'block' : 'none';\n",
              "\n",
              "      async function convertToInteractive(key) {\n",
              "        const element = document.querySelector('#df-6c6fc761-da97-40ba-a52f-3b1263640b75');\n",
              "        const dataTable =\n",
              "          await google.colab.kernel.invokeFunction('convertToInteractive',\n",
              "                                                    [key], {});\n",
              "        if (!dataTable) return;\n",
              "\n",
              "        const docLinkHtml = 'Like what you see? Visit the ' +\n",
              "          '<a target=\"_blank\" href=https://colab.research.google.com/notebooks/data_table.ipynb>data table notebook</a>'\n",
              "          + ' to learn more about interactive tables.';\n",
              "        element.innerHTML = '';\n",
              "        dataTable['output_type'] = 'display_data';\n",
              "        await google.colab.output.renderOutput(dataTable, element);\n",
              "        const docLink = document.createElement('div');\n",
              "        docLink.innerHTML = docLinkHtml;\n",
              "        element.appendChild(docLink);\n",
              "      }\n",
              "    </script>\n",
              "  </div>\n",
              "\n",
              "\n",
              "<div id=\"df-44ac62cf-9b46-4ded-9654-758efdfe5490\">\n",
              "  <button class=\"colab-df-quickchart\" onclick=\"quickchart('df-44ac62cf-9b46-4ded-9654-758efdfe5490')\"\n",
              "            title=\"Suggest charts\"\n",
              "            style=\"display:none;\">\n",
              "\n",
              "<svg xmlns=\"http://www.w3.org/2000/svg\" height=\"24px\"viewBox=\"0 0 24 24\"\n",
              "     width=\"24px\">\n",
              "    <g>\n",
              "        <path d=\"M19 3H5c-1.1 0-2 .9-2 2v14c0 1.1.9 2 2 2h14c1.1 0 2-.9 2-2V5c0-1.1-.9-2-2-2zM9 17H7v-7h2v7zm4 0h-2V7h2v10zm4 0h-2v-4h2v4z\"/>\n",
              "    </g>\n",
              "</svg>\n",
              "  </button>\n",
              "\n",
              "<style>\n",
              "  .colab-df-quickchart {\n",
              "      --bg-color: #E8F0FE;\n",
              "      --fill-color: #1967D2;\n",
              "      --hover-bg-color: #E2EBFA;\n",
              "      --hover-fill-color: #174EA6;\n",
              "      --disabled-fill-color: #AAA;\n",
              "      --disabled-bg-color: #DDD;\n",
              "  }\n",
              "\n",
              "  [theme=dark] .colab-df-quickchart {\n",
              "      --bg-color: #3B4455;\n",
              "      --fill-color: #D2E3FC;\n",
              "      --hover-bg-color: #434B5C;\n",
              "      --hover-fill-color: #FFFFFF;\n",
              "      --disabled-bg-color: #3B4455;\n",
              "      --disabled-fill-color: #666;\n",
              "  }\n",
              "\n",
              "  .colab-df-quickchart {\n",
              "    background-color: var(--bg-color);\n",
              "    border: none;\n",
              "    border-radius: 50%;\n",
              "    cursor: pointer;\n",
              "    display: none;\n",
              "    fill: var(--fill-color);\n",
              "    height: 32px;\n",
              "    padding: 0;\n",
              "    width: 32px;\n",
              "  }\n",
              "\n",
              "  .colab-df-quickchart:hover {\n",
              "    background-color: var(--hover-bg-color);\n",
              "    box-shadow: 0 1px 2px rgba(60, 64, 67, 0.3), 0 1px 3px 1px rgba(60, 64, 67, 0.15);\n",
              "    fill: var(--button-hover-fill-color);\n",
              "  }\n",
              "\n",
              "  .colab-df-quickchart-complete:disabled,\n",
              "  .colab-df-quickchart-complete:disabled:hover {\n",
              "    background-color: var(--disabled-bg-color);\n",
              "    fill: var(--disabled-fill-color);\n",
              "    box-shadow: none;\n",
              "  }\n",
              "\n",
              "  .colab-df-spinner {\n",
              "    border: 2px solid var(--fill-color);\n",
              "    border-color: transparent;\n",
              "    border-bottom-color: var(--fill-color);\n",
              "    animation:\n",
              "      spin 1s steps(1) infinite;\n",
              "  }\n",
              "\n",
              "  @keyframes spin {\n",
              "    0% {\n",
              "      border-color: transparent;\n",
              "      border-bottom-color: var(--fill-color);\n",
              "      border-left-color: var(--fill-color);\n",
              "    }\n",
              "    20% {\n",
              "      border-color: transparent;\n",
              "      border-left-color: var(--fill-color);\n",
              "      border-top-color: var(--fill-color);\n",
              "    }\n",
              "    30% {\n",
              "      border-color: transparent;\n",
              "      border-left-color: var(--fill-color);\n",
              "      border-top-color: var(--fill-color);\n",
              "      border-right-color: var(--fill-color);\n",
              "    }\n",
              "    40% {\n",
              "      border-color: transparent;\n",
              "      border-right-color: var(--fill-color);\n",
              "      border-top-color: var(--fill-color);\n",
              "    }\n",
              "    60% {\n",
              "      border-color: transparent;\n",
              "      border-right-color: var(--fill-color);\n",
              "    }\n",
              "    80% {\n",
              "      border-color: transparent;\n",
              "      border-right-color: var(--fill-color);\n",
              "      border-bottom-color: var(--fill-color);\n",
              "    }\n",
              "    90% {\n",
              "      border-color: transparent;\n",
              "      border-bottom-color: var(--fill-color);\n",
              "    }\n",
              "  }\n",
              "</style>\n",
              "\n",
              "  <script>\n",
              "    async function quickchart(key) {\n",
              "      const quickchartButtonEl =\n",
              "        document.querySelector('#' + key + ' button');\n",
              "      quickchartButtonEl.disabled = true;  // To prevent multiple clicks.\n",
              "      quickchartButtonEl.classList.add('colab-df-spinner');\n",
              "      try {\n",
              "        const charts = await google.colab.kernel.invokeFunction(\n",
              "            'suggestCharts', [key], {});\n",
              "      } catch (error) {\n",
              "        console.error('Error during call to suggestCharts:', error);\n",
              "      }\n",
              "      quickchartButtonEl.classList.remove('colab-df-spinner');\n",
              "      quickchartButtonEl.classList.add('colab-df-quickchart-complete');\n",
              "    }\n",
              "    (() => {\n",
              "      let quickchartButtonEl =\n",
              "        document.querySelector('#df-44ac62cf-9b46-4ded-9654-758efdfe5490 button');\n",
              "      quickchartButtonEl.style.display =\n",
              "        google.colab.kernel.accessAllowed ? 'block' : 'none';\n",
              "    })();\n",
              "  </script>\n",
              "</div>\n",
              "\n",
              "    </div>\n",
              "  </div>\n"
            ],
            "application/vnd.google.colaboratory.intrinsic+json": {
              "type": "dataframe",
              "summary": "{\n  \"name\": \"data\",\n  \"rows\": 8,\n  \"fields\": [\n    {\n      \"column\": \"Age\",\n      \"properties\": {\n        \"dtype\": \"number\",\n        \"std\": 90264.88517873597,\n        \"min\": 14.990258418709589,\n        \"max\": 255347.0,\n        \"num_unique_values\": 8,\n        \"samples\": [\n          43.498306226429136,\n          43.0,\n          255347.0\n        ],\n        \"semantic_type\": \"\",\n        \"description\": \"\"\n      }\n    },\n    {\n      \"column\": \"Income\",\n      \"properties\": {\n        \"dtype\": \"number\",\n        \"std\": 76592.095875849,\n        \"min\": 15000.0,\n        \"max\": 255347.0,\n        \"num_unique_values\": 8,\n        \"samples\": [\n          82499.30459727351,\n          82466.0,\n          255347.0\n        ],\n        \"semantic_type\": \"\",\n        \"description\": \"\"\n      }\n    },\n    {\n      \"column\": \"LoanAmount\",\n      \"properties\": {\n        \"dtype\": \"number\",\n        \"std\": 89819.28246197541,\n        \"min\": 5000.0,\n        \"max\": 255347.0,\n        \"num_unique_values\": 8,\n        \"samples\": [\n          127578.86551242035,\n          127556.0,\n          255347.0\n        ],\n        \"semantic_type\": \"\",\n        \"description\": \"\"\n      }\n    },\n    {\n      \"column\": \"CreditScore\",\n      \"properties\": {\n        \"dtype\": \"number\",\n        \"std\": 90096.97588964661,\n        \"min\": 158.9038665949753,\n        \"max\": 255347.0,\n        \"num_unique_values\": 8,\n        \"samples\": [\n          574.2643461642392,\n          574.0,\n          255347.0\n        ],\n        \"semantic_type\": \"\",\n        \"description\": \"\"\n      }\n    },\n    {\n      \"column\": \"MonthsEmployed\",\n      \"properties\": {\n        \"dtype\": \"number\",\n        \"std\": 90258.94622452793,\n        \"min\": 0.0,\n        \"max\": 255347.0,\n        \"num_unique_values\": 8,\n        \"samples\": [\n          59.541976212761455,\n          60.0,\n          255347.0\n        ],\n        \"semantic_type\": \"\",\n        \"description\": \"\"\n      }\n    },\n    {\n      \"column\": \"NumCreditLines\",\n      \"properties\": {\n        \"dtype\": \"number\",\n        \"std\": 90278.00880226244,\n        \"min\": 1.0,\n        \"max\": 255347.0,\n        \"num_unique_values\": 7,\n        \"samples\": [\n          255347.0,\n          2.501035845339871,\n          3.0\n        ],\n        \"semantic_type\": \"\",\n        \"description\": \"\"\n      }\n    },\n    {\n      \"column\": \"InterestRate\",\n      \"properties\": {\n        \"dtype\": \"number\",\n        \"std\": 90274.3729874994,\n        \"min\": 2.0,\n        \"max\": 255347.0,\n        \"num_unique_values\": 8,\n        \"samples\": [\n          13.492773480792808,\n          13.46,\n          255347.0\n        ],\n        \"semantic_type\": \"\",\n        \"description\": \"\"\n      }\n    },\n    {\n      \"column\": \"LoanTerm\",\n      \"properties\": {\n        \"dtype\": \"number\",\n        \"std\": 90267.03097712154,\n        \"min\": 12.0,\n        \"max\": 255347.0,\n        \"num_unique_values\": 8,\n        \"samples\": [\n          36.02589417537703,\n          36.0,\n          255347.0\n        ],\n        \"semantic_type\": \"\",\n        \"description\": \"\"\n      }\n    },\n    {\n      \"column\": \"DTIRatio\",\n      \"properties\": {\n        \"dtype\": \"number\",\n        \"std\": 90278.63443154338,\n        \"min\": 0.1,\n        \"max\": 255347.0,\n        \"num_unique_values\": 8,\n        \"samples\": [\n          0.5002120643673119,\n          0.5,\n          255347.0\n        ],\n        \"semantic_type\": \"\",\n        \"description\": \"\"\n      }\n    },\n    {\n      \"column\": \"Default\",\n      \"properties\": {\n        \"dtype\": \"number\",\n        \"std\": 90278.72507388392,\n        \"min\": 0.0,\n        \"max\": 255347.0,\n        \"num_unique_values\": 5,\n        \"samples\": [\n          0.11612824901017048,\n          1.0,\n          0.3203792764304572\n        ],\n        \"semantic_type\": \"\",\n        \"description\": \"\"\n      }\n    }\n  ]\n}"
            }
          },
          "metadata": {},
          "execution_count": 10
        }
      ]
    },
    {
      "cell_type": "markdown",
      "source": [
        "### Variables Description"
      ],
      "metadata": {
        "id": "PBTbrJXOngz2"
      }
    },
    {
      "cell_type": "markdown",
      "source": [
        " The dataset includes the following fields:\n",
        "\n",
        "- LoanID: Unique identifier for each loan applicant\n",
        "- Age: Age of the applicant\n",
        "- Income: Annual income of the applicant\n",
        "- LoanAmount: Amount of the loan requested by the applicant\n",
        "- CreditScore: Credit score of the applicant\n",
        "- MonthsEmployed: Number of months the applicant has been employed\n",
        "- NumCreditLines: Number of credit lines the applicant has\n",
        "- InterestRate: The interest rate for the loan\n",
        "- LoanTerm: The term of the loan in months\n",
        "- DTIRatio: Debt-to-income ratio of the applicant\n",
        "- Education: Level of education of the applicant\n",
        "- EmploymentType: Employment status of the applicant\n",
        "- MaritalStatus: Marital status of the applicant\n",
        "- HasMortgage: Indicates if the applicant has a mortgage\n",
        "- HasDependents: Indicates if the applicant has dependents\n",
        "- LoanPurpose: Purpose of the loan\n",
        "- HasCoSigner: Indicates if the applicant has a co-signer\n",
        "- Default: Indicates if the loan defaulted (1 for default, 0 for non-default)\n",
        "\n"
      ],
      "metadata": {
        "id": "aJV4KIxSnxay"
      }
    },
    {
      "cell_type": "markdown",
      "source": [
        "### Check Unique Values for each variable."
      ],
      "metadata": {
        "id": "u3PMJOP6ngxN"
      }
    },
    {
      "cell_type": "code",
      "source": [
        "# Check Unique Values for each variable.\n",
        "for column in data.columns:\n",
        "    unique_values = data[column].unique()\n",
        "    print(f\"Unique values for {column}: {unique_values}\")"
      ],
      "metadata": {
        "id": "zms12Yq5n-jE",
        "colab": {
          "base_uri": "https://localhost:8080/"
        },
        "outputId": "3deff15f-4a26-4eff-eaa3-b496c728bc8e"
      },
      "execution_count": null,
      "outputs": [
        {
          "output_type": "stream",
          "name": "stdout",
          "text": [
            "Unique values for LoanID: ['I38PQUQS96' 'HPSK72WA7R' 'C1OZ6DPJ8Y' ... 'XQK1UUUNGP' 'JAO28CPL4H'\n",
            " 'ZTH91CGL0B']\n",
            "Unique values for Age: [56 69 46 32 60 25 38 36 40 28 41 53 57 20 39 19 61 47 55 50 29 42 66 44\n",
            " 59 45 33 64 68 54 24 26 35 21 31 67 43 37 52 34 23 51 27 48 65 62 58 18\n",
            " 22 30 49 63]\n",
            "Unique values for Income: [ 85994  50432  84208 ... 104108  76558 124446]\n",
            "Unique values for LoanAmount: [ 50587 124440 129188 ... 105905 168231 208294]\n",
            "Unique values for CreditScore: [520 458 451 743 633 720 429 531 827 480 652 375 829 395 635 432 313 811\n",
            " 319 376 419 583 528 468 839 343 514 462 580 604 551 840 787 607 669 506\n",
            " 540 695 707 386 747 400 639 795 498 560 505 393 369 439 634 657 417 455\n",
            " 351 655 737 771 775 680 694 534 529 416 318 411 802 305 674 585 750 303\n",
            " 487 730 579 658 683 574 421 719 692 542 453 618 659 371 517 701 361 578\n",
            " 656 553 734 346 584 481 447 691 457 616 564 315 436 533 372 394 834 339\n",
            " 415 668 748 715 479 696 751 842 769 577 602 497 714 396 513 522 335 601\n",
            " 499 380 640 566 627 786 524 449 489 401 666 818 841 406 508 749 620 536\n",
            " 592 541 316 609 705 424 770 407 611 398 739 777 763 826 726 310 815 797\n",
            " 317 626 708 334 434 381 552 347 413 338 760 740 721 672 464 494 470 624\n",
            " 366 831 337 671 610 308 742 716 383 550 645 433 663 367 650 596 593 466\n",
            " 478 412 571 809 849 629 788 399 643 332 475 382 352 328 469 614 342 642\n",
            " 678 806 477 595 304 312 476 754 530 324 546 518 461 816 641 823 698 402\n",
            " 718 648 559 586 331 644 435 677 569 773 598 444 745 422 341 379 589 364\n",
            " 681 423 808 728 662 490 473 812 832 374 653 676 309 814 465 535 617 679\n",
            " 711 493 774 670 761 782 646 360 456 732 789 344 405 837 723 370 690 521\n",
            " 495 414 325 320 555 307 794 848 427 675 630 420 776 501 459 687 824 425\n",
            " 350 684 348 563 700 706 628 779 781 793 741 557 752 452 582 301 673 532\n",
            " 409 590 576 766 778 636 733 549 450 765 688 397 472 594 441 599 558 780\n",
            " 483 622 835 486 384 638 507 807 783 792 686 843 758 471 608 833 762 445\n",
            " 710 387 709 503 363 820 326 613 519 785 330 817 661 537 727 440 623 496\n",
            " 612 619 485 664 467 340 631 615 431 757 587 504 804 523 333 418 368 300\n",
            " 488 460 703 403 448 830 805 753 796 581 314 699 729 697 365 845 474 713\n",
            " 819 736 373 844 567 391 544 838 482 651 357 502 767 738 510 704 836 647\n",
            " 428 539 603 591 756 717 570 810 527 565 660 573 682 385 390 438 525 764\n",
            " 356 511 548 442 702 654 822 327 512 597 509 426 556 772 722 825 725 828\n",
            " 454 744 649 790 801 665 345 689 561 463 821 606 404 600 791 547 799 354\n",
            " 377 667 685 359 322 323 329 575 437 735 526 746 336 800 491 803 353 484\n",
            " 545 306 572 605 378 554 543 392 430 500 847 321 755 621 588 846 538 408\n",
            " 349 492 516 759 798 693 632 302 724 568 362 712 625 355 784 358 813 446\n",
            " 562 768 311 637 443 389 388 515 410 731]\n",
            "Unique values for MonthsEmployed: [ 80  15  26   0   8  18  67  83 114  94  56  87 112  31  49 106 119  65\n",
            "  96  55  48  73 110  58  62  16  57  37   6 103  39  51  24 105  47 117\n",
            "  32  99  84  72  88  27  36  33  59  20  54  76  66  11  23  22  93  35\n",
            "  50  69  70 111  63   9   1  44  25  71 101  53  45  91  52  74  86   4\n",
            "  10  82   7  79  85  12  17  28  68 100  60 115  43  14  13 104  95 118\n",
            " 113  97 108  40  77 109  34  41  92  46   2   3  78 116  89  75  81   5\n",
            "  90 107  98  21  64  29  30  19  38  61  42 102]\n",
            "Unique values for NumCreditLines: [4 1 3 2]\n",
            "Unique values for InterestRate: [15.23  4.81 21.17 ...  2.46 19.81  9.01]\n",
            "Unique values for LoanTerm: [36 60 24 48 12]\n",
            "Unique values for DTIRatio: [0.44 0.68 0.31 0.23 0.73 0.1  0.16 0.43 0.2  0.33 0.8  0.45 0.89 0.28\n",
            " 0.66 0.17 0.39 0.65 0.38 0.47 0.22 0.5  0.19 0.12 0.82 0.78 0.86 0.69\n",
            " 0.75 0.53 0.4  0.48 0.56 0.3  0.42 0.81 0.58 0.32 0.76 0.59 0.74 0.25\n",
            " 0.37 0.51 0.24 0.15 0.36 0.41 0.71 0.49 0.6  0.72 0.57 0.87 0.62 0.18\n",
            " 0.64 0.83 0.11 0.7  0.35 0.88 0.79 0.84 0.52 0.61 0.14 0.54 0.9  0.67\n",
            " 0.26 0.29 0.34 0.77 0.55 0.13 0.63 0.46 0.21 0.85 0.27]\n",
            "Unique values for Education: [\"Bachelor's\" \"Master's\" 'High School' 'PhD']\n",
            "Unique values for EmploymentType: ['Full-time' 'Unemployed' 'Self-employed' 'Part-time']\n",
            "Unique values for MaritalStatus: ['Divorced' 'Married' 'Single']\n",
            "Unique values for HasMortgage: ['Yes' 'No']\n",
            "Unique values for HasDependents: ['Yes' 'No']\n",
            "Unique values for LoanPurpose: ['Other' 'Auto' 'Business' 'Home' 'Education']\n",
            "Unique values for HasCoSigner: ['Yes' 'No']\n",
            "Unique values for Default: [0 1]\n"
          ]
        }
      ]
    },
    {
      "cell_type": "markdown",
      "source": [
        "## 3. ***Data Wrangling***"
      ],
      "metadata": {
        "id": "dauF4eBmngu3"
      }
    },
    {
      "cell_type": "markdown",
      "source": [
        "### Data Wrangling Code"
      ],
      "metadata": {
        "id": "bKJF3rekwFvQ"
      }
    },
    {
      "cell_type": "code",
      "source": [
        "df = pd.DataFrame(data)\n",
        "\n",
        "# Group by the 'MaritalStatus' column\n",
        "grouped = df.groupby('MaritalStatus')\n",
        "\n",
        "# Calculate the mean for each group\n",
        "mean_values = grouped.mean(numeric_only=True)\n",
        "\n",
        "print(mean_values)\n",
        "print()\n",
        "\n",
        "def custom_range(series):\n",
        "    return series.max() - series.min()\n",
        "\n",
        "# Apply the custom aggregation function\n",
        "income_range = df['Income'].agg(custom_range)\n",
        "print(f\"Custom Income Range: {income_range}\")\n",
        "\n",
        "print()\n",
        "\n",
        "custom_aggregations = df.groupby('MaritalStatus').agg({\n",
        "    'Age': 'mean',\n",
        "    'LoanAmount': 'sum'\n",
        "})\n",
        "\n",
        "print(custom_aggregations)\n",
        "\n",
        "print()\n",
        "\n",
        "custom_credit_score_diff = df['CreditScore'].agg(lambda x: x.max() - x.min())\n",
        "print(f\"Custom Credit Score Difference: {custom_credit_score_diff}\")\n",
        "\n"
      ],
      "metadata": {
        "id": "wk-9a2fpoLcV",
        "colab": {
          "base_uri": "https://localhost:8080/"
        },
        "outputId": "034a06bb-da32-41d7-8cb9-4754629c83c3"
      },
      "execution_count": null,
      "outputs": [
        {
          "output_type": "stream",
          "name": "stdout",
          "text": [
            "                     Age        Income     LoanAmount  CreditScore  \\\n",
            "MaritalStatus                                                        \n",
            "Divorced       43.518434  82491.529547  127810.225265   574.878906   \n",
            "Married        43.538264  82454.159023  127250.951326   574.288094   \n",
            "Single         43.438079  82552.381146  127676.481403   573.625806   \n",
            "\n",
            "               MonthsEmployed  NumCreditLines  InterestRate   LoanTerm  \\\n",
            "MaritalStatus                                                            \n",
            "Divorced            59.520139        2.501370     13.541003  36.048687   \n",
            "Married             59.593585        2.502180     13.478964  36.023634   \n",
            "Single              59.512034        2.499553     13.458389  36.005364   \n",
            "\n",
            "               DTIRatio   Default  \n",
            "MaritalStatus                      \n",
            "Divorced       0.499001  0.125328  \n",
            "Married        0.500092  0.103972  \n",
            "Single         0.501544  0.119124  \n",
            "\n",
            "Custom Income Range: 134999\n",
            "\n",
            "                     Age   LoanAmount\n",
            "MaritalStatus                        \n",
            "Divorced       43.518434  10868086885\n",
            "Married        43.538264  10854760650\n",
            "Single         43.438079  10854033037\n",
            "\n",
            "Custom Credit Score Difference: 549\n"
          ]
        }
      ]
    },
    {
      "cell_type": "markdown",
      "source": [
        "### What all manipulations have you done and insights you found?"
      ],
      "metadata": {
        "id": "MSa1f5Uengrz"
      }
    },
    {
      "cell_type": "markdown",
      "source": [
        "Grouping by MaritalStatus and Calculating Mean Income: The code groups the DataFrame by the 'MaritalStatus' column and calculates the mean income for each group.\n",
        "\n",
        "Custom Income Range Calculation: It defines a custom function custom_range() to calculate the range of income for the entire DataFrame (not group-wise). However, it calculates the range across all values in the 'Income' column, not considering groupings by marital status.\n",
        "\n",
        "Custom Aggregations by Marital Status: The code aggregates data by marital status, calculating the mean age and sum of loan amounts for each group.\n",
        "\n",
        "Custom Credit Score Difference: It calculates the difference between the maximum and minimum credit scores across the entire DataFrame, not considering groupings by marital status.\n",
        "\n",
        "Insights:\n",
        "\n",
        "Average income, age, and total loan amounts can be analyzed based on marital status, providing insights into how these factors vary across different marital statuses.\n",
        "\n",
        "The custom income range gives the range of income values across the entire dataset, which might be useful for understanding the overall spread of income values but doesn't provide insights specific to each marital status group.\n",
        "\n",
        "Similarly, the custom credit score difference provides an overall insight into the range of credit scores but doesn't take into account differences based on marital status."
      ],
      "metadata": {
        "id": "LbyXE7I1olp8"
      }
    },
    {
      "cell_type": "markdown",
      "source": [
        "## ***4. Data Vizualization, Storytelling & Experimenting with charts : Understand the relationships between variables***"
      ],
      "metadata": {
        "id": "GF8Ens_Soomf"
      }
    },
    {
      "cell_type": "markdown",
      "source": [
        "#### Chart - 1"
      ],
      "metadata": {
        "id": "0wOQAZs5pc--"
      }
    },
    {
      "cell_type": "code",
      "source": [
        "plt.figure(figsize=(8, 6))\n",
        "\n",
        "sns.histplot(data=data, x='Age', bins=20, kde=True, color='skyblue')\n",
        "plt.xlabel('Age')\n",
        "plt.ylabel('Count')\n",
        "plt.title('Distribution of Age')\n",
        "plt.show()"
      ],
      "metadata": {
        "id": "7v_ESjsspbW7",
        "colab": {
          "base_uri": "https://localhost:8080/"
        },
        "outputId": "4a41d3b6-5879-4469-b520-4c454cd156ae"
      },
      "execution_count": null,
      "outputs": [
        {
          "output_type": "display_data",
          "data": {
            "text/plain": [
              "<Figure size 800x600 with 1 Axes>"
            ],
            "image/png": "[encoded data removed]"
          },
          "metadata": {}
        }
      ]
    },
    {
      "cell_type": "markdown",
      "source": [
        "##### 1. Why did you pick the specific chart?"
      ],
      "metadata": {
        "id": "K5QZ13OEpz2H"
      }
    },
    {
      "cell_type": "markdown",
      "source": [
        "1. **Visualizing Data Distribution**:\n",
        "   - A histogram provides a clear visual representation of how the **age** values are distributed in the dataset.\n",
        "   - By observing the shape of the histogram, we can quickly identify patterns, clusters, and outliers.\n",
        "\n",
        "2. **Identifying Central Tendency**:\n",
        "   - The histogram allows us to see the **central tendency** of the age distribution.\n",
        "   - We can determine whether the data is **skewed** (leaning towards one side) or approximately **symmetrical**.\n",
        "\n",
        "3. **Detecting Outliers**:\n",
        "   - Outliers (extreme values) can significantly impact statistical analyses.\n",
        "   - The histogram helps us identify any unusually high or low age values that might need further investigation.\n",
        "\n",
        "4. **Segmentation and Targeting**:\n",
        "   - Understanding the age distribution can guide business decisions.\n",
        "   - For example, if a financial institution wants to offer personalized loan products, they can tailor them to specific age groups based on the histogram insights.\n",
        "\n",
        "5. **Decision-Making for Marketing Strategies**:\n",
        "   - Marketing campaigns can be customized based on the predominant age groups.\n",
        "   - For instance, different advertising channels or messaging may be more effective for younger vs. older customers.\n",
        "\n",
        "6. **Risk Assessment**:\n",
        "   - In financial contexts, age can impact risk profiles.\n",
        "   - The histogram helps assess the risk associated with different age brackets.\n",
        "\n"
      ],
      "metadata": {
        "id": "XESiWehPqBRc"
      }
    },
    {
      "cell_type": "markdown",
      "source": [
        "##### 2. What is/are the insight(s) found from the chart?"
      ],
      "metadata": {
        "id": "lQ7QKXXCp7Bj"
      }
    },
    {
      "cell_type": "markdown",
      "source": [
        "\n",
        "\n",
        "*   The chart visually represents the distribution of ages in the dataset.\n",
        "*   It shows that the age groups from 20 to 70 are fairly evenly distributed, with slight peaks around ages 30 and 60.\n",
        "*   The KDE line indicates the density probability of data at different age\n",
        "values.\n",
        "\n",
        "\n",
        "\n"
      ],
      "metadata": {
        "id": "C_j1G7yiqdRP"
      }
    },
    {
      "cell_type": "markdown",
      "source": [
        "##### 3. Will the gained insights help creating a positive business impact?\n",
        "Are there any insights that lead to negative growth? Justify with specific reason."
      ],
      "metadata": {
        "id": "448CDAPjqfQr"
      }
    },
    {
      "cell_type": "markdown",
      "source": [
        "\n",
        "\n",
        "*   Understanding the age distribution can inform marketing strategies, product development, and customer segmentation.\n",
        "*   For example, identifying the most common age groups could guide targeted advertising efforts or help tailor financial products to specific demographics.\n",
        "\n"
      ],
      "metadata": {
        "id": "3cspy4FjqxJW"
      }
    },
    {
      "cell_type": "markdown",
      "source": [
        "#### Chart - 2"
      ],
      "metadata": {
        "id": "KSlN3yHqYklG"
      }
    },
    {
      "cell_type": "code",
      "source": [
        "df = pd.DataFrame(data)\n",
        "plt.figure(figsize=(8, 6))\n",
        "sns.countplot(data=df, x='Education', palette='pastel')\n",
        "plt.xlabel('Education Level')\n",
        "plt.ylabel('Count')\n",
        "plt.title('Education Distribution')\n",
        "plt.xticks(rotation=45)\n",
        "plt.show()"
      ],
      "metadata": {
        "id": "R4YgtaqtYklH",
        "colab": {
          "base_uri": "https://localhost:8080/"
        },
        "outputId": "c7d77ea2-f8ba-4082-9317-62557e9f22c2"
      },
      "execution_count": null,
      "outputs": [
        {
          "output_type": "stream",
          "name": "stderr",
          "text": [
            "<ipython-input-14-7c50256fc847>:3: FutureWarning:\n",
            "\n",
            "\n",
            "\n",
            "Passing `palette` without assigning `hue` is deprecated and will be removed in v0.14.0. Assign the `x` variable to `hue` and set `legend=False` for the same effect.\n",
            "\n",
            "\n"
          ]
        },
        {
          "output_type": "display_data",
          "data": {
            "text/plain": [
              "<Figure size 800x600 with 1 Axes>"
            ],
            "image/png": "[encoded data removed]"
          },
          "metadata": {}
        }
      ]
    },
    {
      "cell_type": "markdown",
      "source": [
        "##### 1. Why did you pick the specific chart?"
      ],
      "metadata": {
        "id": "t6dVpIINYklI"
      }
    },
    {
      "cell_type": "markdown",
      "source": [
        "\n",
        "1.   The bar chart was likely chosen because it effectively visualizes the frequency or count of individuals in each education category.\n",
        "\n",
        "2.   It allows for easy comparison between different education levels.\n",
        "\n",
        "\n"
      ],
      "metadata": {
        "id": "5aaW0BYyYklI"
      }
    },
    {
      "cell_type": "markdown",
      "source": [
        "##### 2. What is/are the insight(s) found from the chart?"
      ],
      "metadata": {
        "id": "ijmpgYnKYklI"
      }
    },
    {
      "cell_type": "markdown",
      "source": [
        "1.   The dataset contains individuals with various education backgrounds, including:\n",
        "*   Bachelor’s\n",
        "*   Master’s\n",
        "*   High School\n",
        "*   PhD\n",
        "2.  The counts for each education level are relatively similar, indicating a fairly balanced representation.\n",
        "\n",
        "\n",
        "\n",
        "\n",
        "\n",
        "\n",
        "\n",
        "\n"
      ],
      "metadata": {
        "id": "PSx9atu2YklI"
      }
    },
    {
      "cell_type": "markdown",
      "source": [
        "##### 3. Will the gained insights help creating a positive business impact?\n",
        "Are there any insights that lead to negative growth? Justify with specific reason."
      ],
      "metadata": {
        "id": "-JiQyfWJYklI"
      }
    },
    {
      "cell_type": "markdown",
      "source": [
        "These insights can guide business decisions:\n",
        "\n",
        "* Targeted Marketing: Understanding the education distribution helps tailor marketing campaigns. For instance, specific educational backgrounds may respond better to certain promotions.\n",
        "\n",
        "* Product Development: Insights can influence product design or features. Education level might impact preferences or needs.\n",
        "\n",
        "* Risk Assessment: In financial services, education can correlate with risk profiles.\n",
        "\n",
        "* Customer Segmentation: Businesses can create segments based on education, allowing personalized services."
      ],
      "metadata": {
        "id": "BcBbebzrYklV"
      }
    },
    {
      "cell_type": "markdown",
      "source": [
        "#### Chart - 3"
      ],
      "metadata": {
        "id": "EM7whBJCYoAo"
      }
    },
    {
      "cell_type": "code",
      "source": [
        "# Example: Loan Purpose\n",
        "loan_purpose_counts = df['LoanPurpose'].value_counts()\n",
        "plt.figure(figsize=(8, 6))\n",
        "plt.pie(loan_purpose_counts, labels=loan_purpose_counts.index, autopct='%1.1f%%', startangle=90)\n",
        "plt.title('Loan Purpose Distribution')\n",
        "plt.axis('equal')\n",
        "plt.show()\n"
      ],
      "metadata": {
        "id": "t6GMdE67YoAp",
        "colab": {
          "base_uri": "https://localhost:8080/"
        },
        "outputId": "1ae54c34-bf02-4fbd-b8be-a39875f38de3"
      },
      "execution_count": null,
      "outputs": [
        {
          "output_type": "display_data",
          "data": {
            "text/plain": [
              "<Figure size 800x600 with 1 Axes>"
            ],
            "image/png": "[encoded data removed]"
          },
          "metadata": {}
        }
      ]
    },
    {
      "cell_type": "markdown",
      "source": [
        "##### 1. Why did you pick the specific chart?"
      ],
      "metadata": {
        "id": "fge-S5ZAYoAp"
      }
    },
    {
      "cell_type": "markdown",
      "source": [
        "* The pie chart was likely chosen because it allows for a clear representation of the proportions of different loan purposes.\n",
        "* Each slice of the pie corresponds to a specific loan purpose, making it easy to compare their relative sizes."
      ],
      "metadata": {
        "id": "5dBItgRVYoAp"
      }
    },
    {
      "cell_type": "markdown",
      "source": [
        "##### 2. What is/are the insight(s) found from the chart?"
      ],
      "metadata": {
        "id": "85gYPyotYoAp"
      }
    },
    {
      "cell_type": "markdown",
      "source": [
        "1. The dataset contains loans with various purposes, categorized as follows:\n",
        "* Business: Approximately 20.1%\n",
        "* Auto: Approximately 19.9%\n",
        "* Home: Approximately 20.1%\n",
        "* Education: Approximately 20.0%\n",
        "* Other: Approximately 19.9%\n",
        "2. All loan purposes are fairly evenly distributed, with each category constituting around 20% of the total loans."
      ],
      "metadata": {
        "id": "4jstXR6OYoAp"
      }
    },
    {
      "cell_type": "markdown",
      "source": [
        "##### 3. Will the gained insights help creating a positive business impact?\n",
        "Are there any insights that lead to negative growth? Justify with specific reason."
      ],
      "metadata": {
        "id": "RoGjAbkUYoAp"
      }
    },
    {
      "cell_type": "markdown",
      "source": [
        "These insights can guide business decisions:\n",
        "* Product Customization: Understanding the distribution of loan purposes helps tailor loan products. For instance, specific features or interest rates can be designed based on the purpose (e.g., business loans vs. auto loans).\n",
        "* Risk Assessment: Different loan purposes may carry varying levels of risk. Businesses can adjust risk models accordingly.\n",
        "* Marketing Strategies: Targeted marketing campaigns can be created for each loan purpose segment.\n",
        "* Customer Segmentation: Loan purpose can be a factor in customer segmentation, allowing personalized services"
      ],
      "metadata": {
        "id": "zfJ8IqMcYoAp"
      }
    },
    {
      "cell_type": "markdown",
      "source": [
        "#### Chart - 4"
      ],
      "metadata": {
        "id": "4Of9eVA-YrdM"
      }
    },
    {
      "cell_type": "code",
      "source": [
        "# Example: Income vs. Loan Amount\n",
        "# plt.figure(figsize=(8, 6))\n",
        "# sns.scatterplot(data=df, x='Income', y='LoanAmount', hue='Default', palette='coolwarm')\n",
        "# plt.xlabel('Income')\n",
        "# plt.ylabel('Loan Amount')\n",
        "# plt.title('Income vs. Loan Amount')\n",
        "# plt.show()\n"
      ],
      "metadata": {
        "id": "irlUoxc8YrdO"
      },
      "execution_count": null,
      "outputs": []
    },
    {
      "cell_type": "markdown",
      "source": [
        "##### 1. Why did you pick the specific chart?"
      ],
      "metadata": {
        "id": "iky9q4vBYrdO"
      }
    },
    {
      "cell_type": "markdown",
      "source": [
        "*Answer* Here.\n",
        "The chart is a scatter plot titled “Income vs. Loan Amount.” Here are the details:\n",
        "\n",
        "The x-axis represents income, ranging from 0 to 140,000.\n",
        "The y-axis represents loan amount, ranging from 0 to 250,000.\n",
        "Blue points are labeled as “0” under “Default,” indicating cases where the loan was not defaulted.\n",
        "Orange points are labeled as “1” under “Default,” indicating cases where the loan was defaulted.\n",
        "Both blue and orange data points are scattered throughout the graph, with no clear pattern or clustering visible."
      ],
      "metadata": {
        "id": "aJRCwT6DYrdO"
      }
    },
    {
      "cell_type": "markdown",
      "source": [
        "##### 2. What is/are the insight(s) found from the chart?"
      ],
      "metadata": {
        "id": "F6T5p64dYrdO"
      }
    },
    {
      "cell_type": "markdown",
      "source": [
        "Answer Here\n",
        "The scatter plot titled “Income vs. Loan Amount” reveals the following insights:\n",
        "\n",
        "Loan Default Patterns:\n",
        "The data points labeled as “1” (orange) represent defaulted loans.\n",
        "These points are scattered across various income levels, indicating that loan default is not solely dependent on income.\n",
        "Some high-income individuals also defaulted on loans, while others did not.\n",
        "\n",
        "No Clear Separation:\n",
        "There is no distinct separation between defaulted and non-defaulted loans based on income.\n",
        "Unlike some other scenarios where a clear trend emerges , this dataset does not exhibit such a pattern.\n",
        "Risk Assessment Complexity:\n",
        "Assessing loan default risk based solely on income may be challenging.\n"
      ],
      "metadata": {
        "id": "Xx8WAJvtYrdO"
      }
    },
    {
      "cell_type": "markdown",
      "source": [
        "##### 3. Will the gained insights help creating a positive business impact?\n",
        "Are there any insights that lead to negative growth? Justify with specific reason."
      ],
      "metadata": {
        "id": "y-Ehk30pYrdP"
      }
    },
    {
      "cell_type": "markdown",
      "source": [
        "Answer Here\n",
        "The insights from the scatter plot may indeed contribute to a positive business impact. Let’s explore how:\n",
        "\n",
        "Risk Assessment Improvement:\n",
        "By understanding that income alone does not predict loan default behavior, businesses can refine their risk assessment models.\n",
        "\n",
        "Incorporating additional factors  can lead to more accurate risk evaluations.\n",
        "Customized Loan Offerings:\n",
        "Businesses can tailor loan offerings based on a holistic view of the borrower.\n",
        "\n"
      ],
      "metadata": {
        "id": "jLNxxz7MYrdP"
      }
    },
    {
      "cell_type": "markdown",
      "source": [
        "#### Chart - 5"
      ],
      "metadata": {
        "id": "bamQiAODYuh1"
      }
    },
    {
      "cell_type": "code",
      "source": [
        "plt.figure(figsize=(8, 6))\n",
        "sns.countplot(data=df, x='MaritalStatus', hue='Default', palette='Set2')\n",
        "plt.xlabel('Marital Status')\n",
        "plt.ylabel('Count')\n",
        "plt.title('Marital Status vs. Default')\n",
        "plt.show()\n"
      ],
      "metadata": {
        "id": "TIJwrbroYuh3",
        "colab": {
          "base_uri": "https://localhost:8080/"
        },
        "outputId": "8f6e8548-d3c1-4f8b-b256-58ae80cadbff"
      },
      "execution_count": null,
      "outputs": [
        {
          "output_type": "display_data",
          "data": {
            "text/plain": [
              "<Figure size 800x600 with 1 Axes>"
            ],
            "image/png": "[encoded data removed]"
          },
          "metadata": {}
        }
      ]
    },
    {
      "cell_type": "markdown",
      "source": [
        "##### 1. Why did you pick the specific chart?"
      ],
      "metadata": {
        "id": "QHF8YVU7Yuh3"
      }
    },
    {
      "cell_type": "markdown",
      "source": [
        "Answer Here.\n",
        "\n",
        "\n",
        "```\n",
        "The specific chart titled “Marital Status vs. Default” compares the default status  across different marital statuses. Here are the key points from the chart:\n",
        "\n",
        "Divorced: Few individuals with default status (orange bars).\n",
        "\n",
        "Married: Majority have no default (green bars).\n",
        "\n",
        "Single: Similar to married, with fewer defaults.\n",
        "\n",
        "```\n",
        "\n"
      ],
      "metadata": {
        "id": "dcxuIMRPYuh3"
      }
    },
    {
      "cell_type": "markdown",
      "source": [
        "##### 2. What is/are the insight(s) found from the chart?"
      ],
      "metadata": {
        "id": "GwzvFGzlYuh3"
      }
    },
    {
      "cell_type": "markdown",
      "source": [
        "Answer Here\n",
        "The insight from the chart is that individuals who are divorced, married, or single have a similar count of non-defaulters (indicated by green bars).\n",
        "\n",
        " However, there is a small proportion of defaulters (indicated by orange bars) in each marital status category, with single individuals having a slightly higher count of defaulters compared to divorced and married individuals."
      ],
      "metadata": {
        "id": "uyqkiB8YYuh3"
      }
    },
    {
      "cell_type": "markdown",
      "source": [
        "##### 3. Will the gained insights help creating a positive business impact?\n",
        "Are there any insights that lead to negative growth? Justify with specific reason."
      ],
      "metadata": {
        "id": "qYpmQ266Yuh3"
      }
    },
    {
      "cell_type": "markdown",
      "source": [
        "\n",
        "The gained insights from the chart may help creating a positive business impact if they are used to design effective strategies to reduce the default risk and increase the customer loyalty among different marital status groups.\n",
        "\n",
        "However, the insights may also lead to negative growth if they are misinterpreted or misused. For example, the lender may assume that single individuals are more likely to default than married or divorced individuals, and therefore charge them higher interest rates or fees, or reject their loan applications."
      ],
      "metadata": {
        "id": "_WtzZ_hCYuh4"
      }
    },
    {
      "cell_type": "markdown",
      "source": [
        "#### Chart - 6"
      ],
      "metadata": {
        "id": "OH-pJp9IphqM"
      }
    },
    {
      "cell_type": "code",
      "source": [
        "plt.figure(figsize=(10, 6))\n",
        "sns.violinplot(data=df, x='Education', y='LoanAmount', hue='Default', split=True, inner='quart', palette='coolwarm')\n",
        "plt.xlabel('Education Level')\n",
        "plt.ylabel('Loan Amount')\n",
        "plt.title('Loan Amount Distribution by Education')\n",
        "plt.show()\n"
      ],
      "metadata": {
        "id": "kuRf4wtuphqN",
        "colab": {
          "base_uri": "https://localhost:8080/"
        },
        "outputId": "ae47d2b1-4b9e-4329-f925-db5c2a5b0a33"
      },
      "execution_count": null,
      "outputs": [
        {
          "output_type": "display_data",
          "data": {
            "text/plain": [
              "<Figure size 1000x600 with 1 Axes>"
            ],
            "image/png": "[encoded data removed]"
          },
          "metadata": {}
        }
      ]
    },
    {
      "cell_type": "markdown",
      "source": [
        "##### 1. Why did you pick the specific chart?"
      ],
      "metadata": {
        "id": "bbFf2-_FphqN"
      }
    },
    {
      "cell_type": "markdown",
      "source": [
        "\n",
        "The chart is a violin plot that shows the distribution of loan amounts by education level and default status. It can help compare the shape and spread of the data across different groups.\n",
        "\n",
        " For example, you can see that the median loan amount for PhD holders is higher than for other education levels, and that the default rate is lower for Master’s and PhD holders than for Bachelor’s and High School holders."
      ],
      "metadata": {
        "id": "loh7H2nzphqN"
      }
    },
    {
      "cell_type": "markdown",
      "source": [
        "##### 2. What is/are the insight(s) found from the chart?"
      ],
      "metadata": {
        "id": "_ouA3fa0phqN"
      }
    },
    {
      "cell_type": "markdown",
      "source": [
        "\n",
        "The median loan amount for PhD holders is higher than for other education levels, and that the default rate is lower for Master’s and PhD holders than for Bachelor’s and High School holders.\n",
        "\n",
        "The distribution of loan amounts for Bachelor’s and High School holders is more skewed to the right, meaning there are more outliers with high loan amounts and high default rates."
      ],
      "metadata": {
        "id": "VECbqPI7phqN"
      }
    },
    {
      "cell_type": "markdown",
      "source": [
        "##### 3. Will the gained insights help creating a positive business impact?\n",
        "Are there any insights that lead to negative growth? Justify with specific reason."
      ],
      "metadata": {
        "id": "Seke61FWphqN"
      }
    },
    {
      "cell_type": "markdown",
      "source": [
        "\n",
        "The insights from the chart could help create a positive business impact if they are used to improve the loan approval process, risk assessment, and customer segmentation. For example, the insights could help:\n",
        "\n",
        "Identify the most profitable and reliable customer segments based on their education level and default status, and target them with appropriate marketing strategies and incentives.\n",
        "Adjust the loan amount and interest rate based on the education level and default status of the applicants, and reduce the potential losses from defaulting customers.\n",
        "\n",
        "\n",
        "However, the insights could also lead to negative growth :\n",
        "\n",
        "\n",
        "Discrimination and unfairness against certain customer segments based on their education level and default status, and violate the ethical and legal principles of lending.\n",
        "Overconfidence and complacency in the loan approval process, and overlook other important factors that affect the default risk, such as income, expenses, assets, liabilities, etc.\n"
      ],
      "metadata": {
        "id": "DW4_bGpfphqN"
      }
    },
    {
      "cell_type": "markdown",
      "source": [
        "#### Chart - 7"
      ],
      "metadata": {
        "id": "PIIx-8_IphqN"
      }
    },
    {
      "cell_type": "code",
      "source": [
        "plt.figure(figsize=(8, 6))\n",
        "sns.countplot(data=df, x='EmploymentType', hue='Default', palette='pastel')\n",
        "plt.xlabel('Employment Type')\n",
        "plt.ylabel('Count')\n",
        "plt.title('Employment Type Distribution')\n",
        "plt.xticks(rotation=45)\n",
        "plt.show()\n"
      ],
      "metadata": {
        "id": "lqAIGUfyphqO",
        "colab": {
          "base_uri": "https://localhost:8080/"
        },
        "outputId": "c5b7579f-9a60-4fad-c91e-2d40685a3bdc"
      },
      "execution_count": null,
      "outputs": [
        {
          "output_type": "display_data",
          "data": {
            "text/plain": [
              "<Figure size 800x600 with 1 Axes>"
            ],
            "image/png": "[encoded data removed]"
          },
          "metadata": {}
        }
      ]
    },
    {
      "cell_type": "markdown",
      "source": [
        "##### 1. Why did you pick the specific chart?"
      ],
      "metadata": {
        "id": "t27r6nlMphqO"
      }
    },
    {
      "cell_type": "markdown",
      "source": [
        "\n",
        "\n",
        "```\n",
        "# This is formatted as code\n",
        "```\n",
        "\n",
        "\n",
        "The chart is a count graph showing the distribution of employment types among two groups of people, labeled as “0” and “1” under the legend titled “Default.” The y-axis shows the count of people in each employment type, and the x-axis shows the four categories of employment type: Fulltime, Unemployed, Self-Employed, and Part-Time. The bars for “0” are significantly taller than those for “1,” indicating a higher count in each employment type.\n",
        "\n",
        "A possible reason for choosing a bar graph to display this data is that it allows for easy comparison of the counts and proportions of each employment type across the two groups. A bar graph can also show the relative size of each category and highlight any differences or similarities between them. However, a bar graph may not be the best choice if the data has a lot of variation or outliers, or if the categories are not mutually exclusive or exhaustive."
      ],
      "metadata": {
        "id": "iv6ro40sphqO"
      }
    },
    {
      "cell_type": "markdown",
      "source": [
        "##### 2. What is/are the insight(s) found from the chart?"
      ],
      "metadata": {
        "id": "r2jJGEOYphqO"
      }
    },
    {
      "cell_type": "markdown",
      "source": [
        "\n",
        "One possible insight from the chart is that the group labeled as “0” has a higher proportion of full-time and self-employed workers than the group labeled as “1.” This could suggest that the group “0” has more stable or flexible sources of income than the group “1,” which has a higher proportion of unemployed and part-time workers.\n",
        "\n",
        "Another possible insight is that the group labeled as “1” has a lower overall count of people than the group labeled as “0.” This could indicate that the group “1” is a smaller or more selective subset of the population than the group “0.” However, without knowing the context and meaning of the labels “0” and “1,” these insights are only speculative and may not reflect the true nature of the data."
      ],
      "metadata": {
        "id": "Po6ZPi4hphqO"
      }
    },
    {
      "cell_type": "markdown",
      "source": [
        "##### 3. Will the gained insights help creating a positive business impact?\n",
        "Are there any insights that lead to negative growth? Justify with specific reason."
      ],
      "metadata": {
        "id": "b0JNsNcRphqO"
      }
    },
    {
      "cell_type": "markdown",
      "source": [
        "The insights from this chart can potentially lead to positive business impact if used to understand and mitigate the risk associated with loan defaults..\n",
        "\n",
        "Some possible reasons for the differences in default rates among employment types are:\n",
        "\n",
        "Income stability: Full-time employees may have more stable and predictable income than other types of workers, which enables them to repay their loans on time and avoid defaulting.\n",
        "Credit history: Full-time employees may have better credit history and scores than other types of workers, which reflects their ability and willingness to repay their debts and reduces their default risk.\n",
        "\n",
        "Loan amount and terms: Full-time employees may have access to lower interest rates and more favorable loan terms than other types of workers, which reduces their debt burden and default likelihood.\n",
        "\n",
        "These reasons are not conclusive and may vary depending on the context and data source. However, they suggest some possible ways to improve the business performance and reduce the default risk by:\n",
        "\n",
        "Segmenting the customers: The business can segment the customers based on their employment type and other relevant factors, and offer different products and services tailored to their needs and preferences.\n",
        "\n",
        "Adjusting the pricing and risk: The business can adjust the pricing and risk of the loans based on the employment type and default rate of the customers, and charge higher interest rates or fees to the customers with higher default risk to compensate for the potential losses.\n",
        "\n",
        "Enhancing the monitoring and collection: The business can enhance the monitoring and collection of the loans by using data analytics and automation tools, and implement timely and effective interventions to prevent or recover the defaults."
      ],
      "metadata": {
        "id": "xvSq8iUTphqO"
      }
    },
    {
      "cell_type": "markdown",
      "source": [
        "#### Chart - 8"
      ],
      "metadata": {
        "id": "BZR9WyysphqO"
      }
    },
    {
      "cell_type": "code",
      "source": [
        "plt.figure(figsize=(8, 6))\n",
        "sns.boxplot(data=df, x='Default', y='CreditScore', palette='Set2')\n",
        "plt.xlabel('Default')\n",
        "plt.ylabel('Credit Score')\n",
        "plt.title('Credit Score Distribution by Default')\n",
        "plt.show()\n"
      ],
      "metadata": {
        "id": "TdPTWpAVphqO",
        "colab": {
          "base_uri": "https://localhost:8080/"
        },
        "outputId": "bba5f927-e65e-463e-bcaf-eea096a75350"
      },
      "execution_count": null,
      "outputs": [
        {
          "output_type": "stream",
          "name": "stderr",
          "text": [
            "<ipython-input-20-6d800efc8699>:2: FutureWarning:\n",
            "\n",
            "\n",
            "\n",
            "Passing `palette` without assigning `hue` is deprecated and will be removed in v0.14.0. Assign the `x` variable to `hue` and set `legend=False` for the same effect.\n",
            "\n",
            "\n"
          ]
        },
        {
          "output_type": "display_data",
          "data": {
            "text/plain": [
              "<Figure size 800x600 with 1 Axes>"
            ],
            "image/png": "[encoded data removed]"
          },
          "metadata": {}
        }
      ]
    },
    {
      "cell_type": "markdown",
      "source": [
        "##### 1. Why did you pick the specific chart?"
      ],
      "metadata": {
        "id": "jj7wYXLtphqO"
      }
    },
    {
      "cell_type": "markdown",
      "source": [
        "The chart is a box plot that shows the distribution of credit scores by default status. It can help compare the median, range, and variability of credit scores for people who defaulted on their loans (1) and those who did not (0)."
      ],
      "metadata": {
        "id": "Ob8u6rCTphqO"
      }
    },
    {
      "cell_type": "markdown",
      "source": [
        "##### 2. What is/are the insight(s) found from the chart?"
      ],
      "metadata": {
        "id": "eZrbJ2SmphqO"
      }
    },
    {
      "cell_type": "markdown",
      "source": [
        "The chart titled “Credit Score Distribution by Default” reveals the following insights:\n",
        "\n",
        "Credit Score Difference:\n",
        "Individuals who default (1) tend to have a lower median credit score compared to those who do not default (0).\n",
        "However, the range of credit scores among both defaulters and non-defaulters is quite similar.\n",
        "Visual Representation:\n",
        "The chart displays two boxes representing two groups:\n",
        "Group 0: Those who did not default (color: green).\n",
        "Group 1: Those who defaulted (color: orange).\n",
        "The “0” group has a higher median credit score, while the “1” group has a lower median credit score.\n",
        "Both groups exhibit similar ranges of credit scores.\n",
        "Credit Score Range:\n",
        "Credit scores on the y-axis range from 300 to 800."
      ],
      "metadata": {
        "id": "mZtgC_hjphqO"
      }
    },
    {
      "cell_type": "markdown",
      "source": [
        "##### 3. Will the gained insights help creating a positive business impact?\n",
        "Are there any insights that lead to negative growth? Justify with specific reason."
      ],
      "metadata": {
        "id": "rFu4xreNphqO"
      }
    },
    {
      "cell_type": "markdown",
      "source": [
        "Positive Business Impact:\n",
        "\n",
        "Higher Median Credit Score for Non-Defaulters (Group 0): The fact that individuals who do not default (Group 0) tend to have a higher median credit score suggests that businesses can focus on attracting and retaining customers with better credit profiles. Lending institutions, credit card companies, and mortgage providers can tailor their offerings to attract this segment, potentially leading to increased business and reduced risk.\n",
        "\n",
        "Similar Credit Score Ranges: The similarity in credit score ranges between defaulters (Group 1) and non-defaulters indicates that businesses can target a broader range of customers without significantly altering their risk exposure. This flexibility can be advantageous for product diversification and market expansion.\n",
        "Negative Growth Considerations:\n",
        "Risk Associated with Defaulters (Group 1): While the median credit score for defaulters is lower, the wide credit score range within this group implies significant variability. Businesses need to carefully assess the risk associated with lending to individuals with lower credit scores. Overreliance on this segment could lead to higher default rates and financial losses.\n",
        "\n",
        "Potential Impact on Profit Margins: If a business primarily caters to defaulters (Group 1), it may face challenges related to loan defaults, late payments, and increased collection efforts. These operational costs can negatively impact profit margins.\n",
        "\n",
        "\n",
        "\n",
        "Negative Impact: Overreliance on defaulters (Group 1) without proper risk assessment can lead to financial losses. Businesses must strike a balance between serving diverse customer segments and managing risk effectively."
      ],
      "metadata": {
        "id": "ey_0qi68phqO"
      }
    },
    {
      "cell_type": "markdown",
      "source": [
        "#### Chart - 9"
      ],
      "metadata": {
        "id": "YJ55k-q6phqO"
      }
    },
    {
      "cell_type": "code",
      "source": [
        "grouped_data = df.groupby(['LoanPurpose', 'MaritalStatus']).size().unstack()\n",
        "\n",
        "# Create a stacked bar chart\n",
        "plt.figure(figsize=(10, 6))\n",
        "sns.set_palette(\"pastel\")\n",
        "grouped_data.plot(kind='bar', stacked=True)\n",
        "plt.xlabel('Loan Purpose')\n",
        "plt.ylabel('Count')\n",
        "plt.title('Loan Purpose by Marital Status')\n",
        "plt.xticks(rotation=45)\n",
        "plt.legend(title='Marital Status')\n",
        "plt.show()"
      ],
      "metadata": {
        "id": "B2aS4O1ophqO",
        "colab": {
          "base_uri": "https://localhost:8080/"
        },
        "outputId": "400058d2-8513-4c04-a9e1-1bddec9bd476"
      },
      "execution_count": null,
      "outputs": [
        {
          "output_type": "display_data",
          "data": {
            "text/plain": [
              "<Figure size 1000x600 with 0 Axes>"
            ]
          },
          "metadata": {}
        },
        {
          "output_type": "display_data",
          "data": {
            "text/plain": [
              "<Figure size 640x480 with 1 Axes>"
            ],
            "image/png": "[encoded data removed]"
          },
          "metadata": {}
        }
      ]
    },
    {
      "cell_type": "markdown",
      "source": [
        "##### 1. Why did you pick the specific chart?"
      ],
      "metadata": {
        "id": "gCFgpxoyphqP"
      }
    },
    {
      "cell_type": "markdown",
      "source": [
        "The specific chart titled “Loan Purpose by Marital Status” was likely chosen for its relevance to the topic being discussed. It visually represents the distribution of loan purposes across different marital statuses. Here are the key takeaways from the chart:\n",
        "\n",
        "Auto Loans: Single individuals have the highest count, followed by married and divorced individuals.\n",
        "\n",
        "Business Loans: Counts are similar for married and single statuses, with fewer divorced individuals.\n",
        "\n",
        "Education Loans: Single individuals dominate, followed closely by married, then divorced.\n",
        "\n",
        "Home Loans: Married individuals have the highest count, followed by single and divorced.\n",
        "\n",
        "Other Loans: Counts are similar for married and single statuses, with fewer divorced individuals."
      ],
      "metadata": {
        "id": "TVxDimi2phqP"
      }
    },
    {
      "cell_type": "markdown",
      "source": [
        "##### 2. What is/are the insight(s) found from the chart?"
      ],
      "metadata": {
        "id": "OVtJsKN_phqQ"
      }
    },
    {
      "cell_type": "markdown",
      "source": [
        "The chart titled “Average Interest Rate by Loan Term” shows the relationship between the loan term (in months) and the average interest rate (in percentage) for the loans in the dataset. Here are some possible insights from the chart:\n",
        "\n",
        "Positive Correlation: There is a positive correlation between the loan term and the average interest rate, meaning that longer loan terms tend to have higher interest rates. This could be explained by the fact that longer loan terms entail more risk and uncertainty for the lenders, who charge higher interest rates to compensate for the potential losses.\n",
        "\n",
        "Non-Linear Relationship: The relationship between the loan term and the average interest rate is not linear, meaning that the interest rate does not increase at a constant rate as the loan term increases. Instead, the interest rate seems to increase more rapidly for shorter loan terms (from 12 to 24 months) and more slowly for longer loan terms (from 36 to 60 months). This could be due to the fact that the interest rate is also influenced by other factors, such as the credit score, income, loan amount, and loan purpose of the borrowers.\n",
        "\n",
        "Variation in Interest Rates: The interest rates vary significantly across different loan terms, ranging from around 10% for 12-month loans to around 16% for 60-month loans. This indicates that the loan term is an important factor that affects the cost and affordability of the loans. Borrowers may want to consider the trade-off between the loan term and the interest rate when choosing the best loan option for their needs."
      ],
      "metadata": {
        "id": "ngGi97qjphqQ"
      }
    },
    {
      "cell_type": "markdown",
      "source": [
        "##### 3. Will the gained insights help creating a positive business impact?\n",
        "Are there any insights that lead to negative growth? Justify with specific reason."
      ],
      "metadata": {
        "id": "lssrdh5qphqQ"
      }
    },
    {
      "cell_type": "markdown",
      "source": [
        "The gained insights from the chart titled “Average Interest Rate by Loan Term” could help creating a positive business impact if they are used to inform and optimize the lending strategies and policies. For example, the lenders could:\n",
        "\n",
        "Adjust the interest rates for different loan terms based on the demand and supply of the loans, as well as the risk and profitability factors.\n",
        "Offer incentives or discounts for borrowers who choose shorter loan terms, as they would have lower interest rates and faster repayment cycles.\n",
        "\n",
        "There are also some potential insights that could lead to negative growth if they are not addressed properly. For example, the lenders could:\n",
        "\n",
        "Lose customers or market share to competitors who offer lower interest rates or more flexible loan terms for the same or similar loan purposes.\n",
        "Face higher default or delinquency rates from borrowers who choose longer loan terms and higher interest rates, and struggle to repay their loans due to unforeseen circumstances or changes in their financial situations.\n",
        "Encounter legal or regulatory issues from authorities or stakeholders who question the fairness or transparency of the interest rates and loan terms, and demand more accountability or compliance from the lenders."
      ],
      "metadata": {
        "id": "tBpY5ekJphqQ"
      }
    },
    {
      "cell_type": "markdown",
      "source": [
        "#### Chart - 10"
      ],
      "metadata": {
        "id": "U2RJ9gkRphqQ"
      }
    },
    {
      "cell_type": "code",
      "source": [
        "\n",
        "avg_interest_rate_by_term = df.groupby('LoanTerm')['InterestRate'].mean()\n",
        "\n",
        "plt.plot(avg_interest_rate_by_term.index, avg_interest_rate_by_term.values, marker='o', linestyle='-')\n",
        "\n",
        "plt.xlabel('Loan Term')\n",
        "plt.ylabel('Average Interest Rate')\n",
        "plt.title('Average Interest Rate by Loan Term')\n",
        "\n",
        "plt.tight_layout()\n",
        "plt.show()"
      ],
      "metadata": {
        "id": "GM7a4YP4phqQ",
        "colab": {
          "base_uri": "https://localhost:8080/"
        },
        "outputId": "7ac6955b-470b-4792-d315-923b48a77d72"
      },
      "execution_count": null,
      "outputs": [
        {
          "output_type": "display_data",
          "data": {
            "text/plain": [
              "<Figure size 640x480 with 1 Axes>"
            ],
            "image/png": "[encoded data removed]"
          },
          "metadata": {}
        }
      ]
    },
    {
      "cell_type": "markdown",
      "source": [
        "##### 1. Why did you pick the specific chart?"
      ],
      "metadata": {
        "id": "1M8mcRywphqQ"
      }
    },
    {
      "cell_type": "markdown",
      "source": [
        "\n",
        "The specific chart titled “Average Interest Rate by Loan Term” was chosen because it visually represents the relationship between loan term and average interest rate. Here are the key takeaways from the chart:\n",
        "\n",
        "Loan Term vs. Interest Rate: The graph shows how the average interest rate changes with varying loan terms.\n",
        "Decreasing Trend: Initially, as the loan term increases from 10 to around 30, the average interest rate decreases.\n",
        "Sharp Increase: Beyond a loan term of 30, the interest rate sharply increases.\n",
        "Optimal Range: The lowest interest rate occurs around a loan term of 30."
      ],
      "metadata": {
        "id": "8agQvks0phqQ"
      }
    },
    {
      "cell_type": "markdown",
      "source": [
        "##### 2. What is/are the insight(s) found from the chart?"
      ],
      "metadata": {
        "id": "tgIPom80phqQ"
      }
    },
    {
      "cell_type": "markdown",
      "source": [
        "The chart titled “Average Interest Rate by Loan Term” shows the relationship between loan term and average interest rate. Here are some possible insights found from the chart:\n",
        "\n",
        "Decreasing Trend: Initially, as the loan term increases from 10 to around 30, the average interest rate decreases. This could indicate that the lenders are willing to offer lower interest rates for longer loan terms, as they would have more time to collect the interest payments and recover their principal amount.\n",
        "\n",
        "Sharp Increase: Beyond a loan term of 30, the interest rate sharply increases. This could indicate that the lenders are charging higher interest rates for very long loan terms, as they would face more uncertainty and risk of default or prepayment from the borrowers.\n",
        "Optimal Range: The lowest interest rate occurs around a loan term of 30. This could indicate that the optimal loan term for both the lenders and the borrowers is 30, as it offers the lowest interest rate and a reasonable repayment period."
      ],
      "metadata": {
        "id": "Qp13pnNzphqQ"
      }
    },
    {
      "cell_type": "markdown",
      "source": [
        "##### 3. Will the gained insights help creating a positive business impact?\n",
        "Are there any insights that lead to negative growth? Justify with specific reason."
      ],
      "metadata": {
        "id": "JMzcOPDDphqR"
      }
    },
    {
      "cell_type": "markdown",
      "source": [
        "The gained insights from the chart titled “Average Interest Rate by Loan Term” could help creating a positive business impact by enabling better decision making for both the lenders and the borrowers. For example:\n",
        "\n",
        "The lenders could use the insights to optimize their interest rate strategy and offer competitive rates for different loan terms, depending on their risk appetite and profit margin.\n",
        "The borrowers could use the insights to choose the most suitable loan term for their needs and budget, and compare the interest rates offered by different lenders.\n",
        "\n",
        "However, there could also be some potential drawbacks or challenges that could lead to negative growth, such as:\n",
        "\n",
        "\n",
        "\n",
        "The chart does not account for other factors that could affect the interest rate, such as the credit score, income, collateral, loan purpose, etc. of the borrowers. Therefore, the insights may not be applicable or relevant for all types of borrowers or loans.\n",
        "The chart does not show the distribution or variation of the interest rates for each loan term, such as the minimum, maximum, median, or standard deviation. Therefore, the insights may not capture the full picture or range of the interest rates."
      ],
      "metadata": {
        "id": "R4Ka1PC2phqR"
      }
    },
    {
      "cell_type": "markdown",
      "source": [
        "#### Chart - 11"
      ],
      "metadata": {
        "id": "x-EpHcCOp1ci"
      }
    },
    {
      "cell_type": "code",
      "source": [
        "plt.figure(figsize=(8, 6))\n",
        "plt.hist(df['CreditScore'], bins=50, color='skyblue', edgecolor='black')\n",
        "plt.xlabel('Credit Score')\n",
        "plt.ylabel('Frequency')\n",
        "plt.title('Distribution of Credit Scores')\n",
        "plt.grid(True)\n",
        "plt.show()"
      ],
      "metadata": {
        "id": "mAQTIvtqp1cj",
        "colab": {
          "base_uri": "https://localhost:8080/"
        },
        "outputId": "41a9e340-f75d-474c-aed7-3c902141ac3e"
      },
      "execution_count": null,
      "outputs": [
        {
          "output_type": "display_data",
          "data": {
            "text/plain": [
              "<Figure size 800x600 with 1 Axes>"
            ],
            "image/png": "[encoded data removed]"
          },
          "metadata": {}
        }
      ]
    },
    {
      "cell_type": "markdown",
      "source": [
        "##### 1. Why did you pick the specific chart?"
      ],
      "metadata": {
        "id": "X_VqEhTip1ck"
      }
    },
    {
      "cell_type": "markdown",
      "source": [
        "The chart selected is a bar chart, specifically designed to showcase the distribution of credit scores. This type of chart is particularly effective for several reasons:\n",
        "\n",
        "Visual Clarity: Bar charts provide a clear, visual representation of data distributions, making it easy to compare different groups or categories. In this case, it allows for an immediate understanding of how credit scores are spread across different ranges.\n",
        "Distribution Insight: The choice of a bar chart, often resembling a histogram in this context, is ideal for displaying the frequency distribution of numerical data. It helps in identifying patterns, such as the most common ranges of credit scores, and whether the distribution is skewed towards higher or lower scores.\n",
        "\n",
        "Ease of Interpretation: For audiences that may not be familiar with more complex statistical representations, a bar chart offers an accessible way to grasp the concept of distribution without needing to understand statistical terms.\n",
        "This chart type was chosen to effectively communicate the distribution of credit scores, highlighting the central tendency, variability, and the overall shape of the distribution. It's a strategic choice for conveying complex data in a straightforward, visually appealing manner."
      ],
      "metadata": {
        "id": "-vsMzt_np1ck"
      }
    },
    {
      "cell_type": "markdown",
      "source": [
        "##### 2. What is/are the insight(s) found from the chart?"
      ],
      "metadata": {
        "id": "8zGJKyg5p1ck"
      }
    },
    {
      "cell_type": "markdown",
      "source": [
        "The insights derived from the  chart titled \"Distribution of Credit Scores\" can be summarized as follows:\n",
        "\n",
        "Central Tendency: The distribution of credit scores is centered around the 600 to 700 range. This suggests that the majority of individuals in the dataset have credit scores within this interval, indicating a moderate level of creditworthiness.\n",
        "\n",
        "Spread and Variability: The presence of bars across the range from approximately 300 to 800 shows that there is a wide spread in credit scores among the population.\n",
        "\n",
        "Skewness: The chart may hint at a slight skewness towards the lower end of the credit score spectrum, given that there are bars present at the lower end (around 300-400) but fewer instances of extremely high scores (above 700). This suggests that while most people have moderate scores, there are more individuals with lower scores than there are with very high scores.\n",
        "\n",
        "Distribution Shape: The distribution appears to be somewhat bell-shaped, with a peak in the 600-700 range, but it's not perfectly symmetrical. This indicates that while many credit scores are concentrated around a central range, the distribution of scores has some irregularities.\n",
        "\n",
        "These insights can be valuable for financial institutions, credit analysts, and policymakers to understand the creditworthiness of a population, identify potential risks, and tailor financial products or services accordingly."
      ],
      "metadata": {
        "id": "ZYdMsrqVp1ck"
      }
    },
    {
      "cell_type": "markdown",
      "source": [
        "##### 3. Will the gained insights help creating a positive business impact?\n",
        "Are there any insights that lead to negative growth? Justify with specific reason."
      ],
      "metadata": {
        "id": "PVzmfK_Ep1ck"
      }
    },
    {
      "cell_type": "markdown",
      "source": [
        "The insights gained from the chart on the distribution of credit scores can indeed help in creating a positive business impact are:\n",
        "\n",
        "Targeted Financial Products: Understanding that the majority of individuals have credit scores in the moderate range (600-700) allows these institutions to tailor their financial products or services to meet the needs of this large segment. For example, they could design credit cards, loans, or mortgages with terms that are attractive to individuals within this score range, potentially increasing customer acquisition and satisfaction.\n",
        "\n",
        "Risk Management: The insight that there are fewer individuals with very high or very low scores can aid in risk management. Knowing that there's a smaller segment of the population with very high scores, institutions might offer premium products or services with more favorable terms to attract these low-risk individuals. Conversely, the presence of individuals with lower scores highlights the need for products designed for higher-risk customers, possibly with different interest rates or collateral requirements.\n",
        "\n",
        "Regarding negative growth, the insights themselves do not directly lead to negative growth but highlight areas where businesses need to be cautious:\n",
        "\n",
        "Risk of Default: The presence of individuals with lower credit scores indicates a segment of the market that is riskier to serve due to a higher likelihood of default. Without proper risk assessment and management strategies, targeting this segment could lead to financial losses.\n",
        "\n",
        "Market Saturation: If the majority of the market falls within the moderate credit score range and multiple institutions target this segment aggressively, it could lead to market saturation. This might reduce the effectiveness of marketing efforts and increase customer acquisition costs."
      ],
      "metadata": {
        "id": "druuKYZpp1ck"
      }
    },
    {
      "cell_type": "markdown",
      "source": [
        "#### Chart - 12"
      ],
      "metadata": {
        "id": "n3dbpmDWp1ck"
      }
    },
    {
      "cell_type": "code",
      "source": [
        "plt.figure(figsize=(8, 6))\n",
        "df['LoanPurpose'].value_counts().plot(kind='pie', autopct='%1.1f%%', colors=['lightcoral', 'lightskyblue', 'lightgreen', 'lightyellow', 'lightpink'])\n",
        "plt.ylabel('')\n",
        "plt.title('Distribution of Loan Purposes')\n",
        "plt.show()"
      ],
      "metadata": {
        "id": "bwevp1tKp1ck",
        "colab": {
          "base_uri": "https://localhost:8080/"
        },
        "outputId": "2139a8e2-398b-4897-c65e-f83fda5ccd99"
      },
      "execution_count": null,
      "outputs": [
        {
          "output_type": "display_data",
          "data": {
            "text/plain": [
              "<Figure size 800x600 with 1 Axes>"
            ],
            "image/png": "[encoded data removed]"
          },
          "metadata": {}
        }
      ]
    },
    {
      "cell_type": "markdown",
      "source": [
        "##### 1. Why did you pick the specific chart?"
      ],
      "metadata": {
        "id": "ylSl6qgtp1ck"
      }
    },
    {
      "cell_type": "markdown",
      "source": [
        "The specific chart selected is a pie chart, which is particularly effective for displaying the distribution of categorical data in a proportional manner. The rationale behind choosing a pie chart for the data presented, which appears to be the distribution of loan purposes, includes:\n",
        "\n",
        "Proportional Representation: Pie charts are excellent for showing how each category (in this case, loan purposes such as Home, Business, Education, Auto, and Other) compares proportionally to the whole. This visual representation helps in quickly grasping which segments of the loan purposes are more prevalent or if they are evenly distributed.\n",
        "\n",
        "Simplicity and Clarity: For data with a limited number of categories, pie charts provide a clear and straightforward visual comparison. This simplicity makes it easy for viewers to understand the composition of the data at a glance without the need for complex interpretation.\n",
        "\n",
        "Visual Appeal: Pie charts, with their colorful segments, can be more visually engaging than other types of charts. This can be particularly useful in presentations or reports where capturing the audience's attention is crucial."
      ],
      "metadata": {
        "id": "m2xqNkiQp1ck"
      }
    },
    {
      "cell_type": "markdown",
      "source": [
        "##### 2. What is/are the insight(s) found from the chart?"
      ],
      "metadata": {
        "id": "ZWILFDl5p1ck"
      }
    },
    {
      "cell_type": "markdown",
      "source": [
        "he insights derived from the pie chart titled \"Distribution of Loan Purposes\" can be summarized as follows:\n",
        "\n",
        "Equal Distribution: The chart shows an equal distribution of loan purposes among Home, Business, Education, Auto, and Other categories. Each category occupies approximately 20% of the total, indicating a balanced distribution of loan purposes.\n",
        "\n",
        "Proportional Representation: The pie chart effectively illustrates the proportion of each loan purpose relative to the total number of loans. This visual representation allows viewers to quickly understand the relative sizes of the different loan purposes and how they contribute to the overall distribution.\n",
        "\n",
        "Even Spread: The equal distribution of loan purposes suggests that there is no dominant category among the loan purposes considered in the dataset. This balanced spread indicates that loans are being utilized across various purposes in a relatively uniform manner.\n",
        "\n",
        "Clarity in Comparison: The pie chart provides a clear and concise way to compare the distribution of loan purposes. Viewers can easily see the relative sizes of the segments and identify any significant differences or similarities among the categories."
      ],
      "metadata": {
        "id": "x-lUsV2mp1ck"
      }
    },
    {
      "cell_type": "markdown",
      "source": [
        "##### 3. Will the gained insights help creating a positive business impact?\n",
        "Are there any insights that lead to negative growth? Justify with specific reason."
      ],
      "metadata": {
        "id": "M7G43BXep1ck"
      }
    },
    {
      "cell_type": "markdown",
      "source": [
        "The insights gained from the pie chart on the distribution of loan purposes can indeed contribute to creating a positive business impact are:\n",
        "\n",
        "Market Opportunities: The equal distribution across loan purposes (Home, Business, Education, Auto, and Other) suggests a diversified demand for loans. Financial institutions can leverage this insight to tailor their products and marketing strategies to cater to each segment, potentially increasing their market share and customer base.\n",
        "\n",
        "Product Development: Understanding the distribution of loan purposes allows for targeted product development. For instance, knowing that there is an equal interest in education and auto loans, a bank could develop specialized loan products with competitive interest rates or flexible repayment options for these segments.\n",
        "\n",
        "However, there are considerations that could potentially lead to negative growth if not addressed properly:\n",
        "\n",
        "Overextension: While a diversified loan portfolio is generally positive, there is a risk of overextension if financial institutions do not adequately assess the creditworthiness of borrowers across all segments. This could lead to higher default rates, negatively impacting financial performance.\n",
        "\n",
        "Market Saturation: The equal distribution of loan purposes might also indicate a highly competitive market with many players offering similar products. Without a clear differentiation strategy, financial institutions might struggle to grow their market share, leading to stagnant or negative growth."
      ],
      "metadata": {
        "id": "5wwDJXsLp1cl"
      }
    },
    {
      "cell_type": "markdown",
      "source": [
        "#### Chart - 13"
      ],
      "metadata": {
        "id": "Ag9LCva-p1cl"
      }
    },
    {
      "cell_type": "code",
      "source": [
        "grouped_data = df.groupby(['LoanPurpose', 'HasDependents']).size().unstack(fill_value=0)\n",
        "\n",
        "# Plotting the grouped bar chart\n",
        "plt.figure(figsize=(10, 6))\n",
        "grouped_data.plot(kind='bar', stacked=True)\n",
        "plt.xlabel('Loan Purpose')\n",
        "plt.ylabel('Count')\n",
        "plt.title('Distribution of Loan Purposes by Dependents Status')\n",
        "plt.grid(axis='y')\n",
        "plt.xticks(rotation=45)\n",
        "plt.legend(title='Has Dependents', loc='upper right')\n",
        "plt.show()"
      ],
      "metadata": {
        "id": "EUfxeq9-p1cl",
        "colab": {
          "base_uri": "https://localhost:8080/"
        },
        "outputId": "20e605ea-05d8-439c-a8b3-86d2026a01ca"
      },
      "execution_count": null,
      "outputs": [
        {
          "output_type": "display_data",
          "data": {
            "text/plain": [
              "<Figure size 1000x600 with 0 Axes>"
            ]
          },
          "metadata": {}
        },
        {
          "output_type": "display_data",
          "data": {
            "text/plain": [
              "<Figure size 640x480 with 1 Axes>"
            ],
            "image/png": "[encoded data removed]"
          },
          "metadata": {}
        }
      ]
    },
    {
      "cell_type": "markdown",
      "source": [
        "##### 1. Why did you pick the specific chart?"
      ],
      "metadata": {
        "id": "E6MkPsBcp1cl"
      }
    },
    {
      "cell_type": "markdown",
      "source": [
        "The specific chart was likely chosen because:\n",
        "\n",
        "Comparison of Two Variables: The chart allows for the comparison of the number of loans for each purpose, segmented by whether the individual has dependents or not. This can provide insights into how the presence of dependents might influence the need for different types of loans.\n",
        "\n",
        "Visual Clarity: Stacked bar charts are useful for displaying the total amount of each category (loan purpose) while also showing the proportion of the sub-categories (dependent status).\n",
        "\n",
        "Insightful Data Representation: This type of chart can help in identifying trends and patterns, such as which loan purposes are more common among individuals with or without dependents, which can be valuable for targeted marketing and product development."
      ],
      "metadata": {
        "id": "V22bRsFWp1cl"
      }
    },
    {
      "cell_type": "markdown",
      "source": [
        "##### 2. What is/are the insight(s) found from the chart?"
      ],
      "metadata": {
        "id": "2cELzS2fp1cl"
      }
    },
    {
      "cell_type": "markdown",
      "source": [
        "The insights derived from the pie chart on the distribution of loan purposes can be summarized as follows:\n",
        "\n",
        "Equal Distribution: The chart shows an equal distribution of loan purposes among Home, Business, Education, Auto, and Other categories. Each category occupies approximately 20% of the total, indicating a balanced distribution of loan purposes.\n",
        "\n",
        "Proportional Representation: The pie chart effectively illustrates the proportion of each loan purpose relative to the total number of loans. This visual representation allows viewers to quickly understand the relative sizes of the different loan purposes and how they contribute to the overall distribution.\n",
        "\n",
        "Even Spread: The equal distribution of loan purposes suggests that there is no dominant category among the loan purposes considered in the dataset. This balanced spread indicates that loans are being utilized across various purposes in a relatively uniform manner."
      ],
      "metadata": {
        "id": "ozQPc2_Ip1cl"
      }
    },
    {
      "cell_type": "markdown",
      "source": [
        "##### 3. Will the gained insights help creating a positive business impact?\n",
        "Are there any insights that lead to negative growth? Justify with specific reason."
      ],
      "metadata": {
        "id": "3MPXvC8up1cl"
      }
    },
    {
      "cell_type": "markdown",
      "source": [
        "The insights gained from the pie chart on the distribution of loan purposes can indeed contribute to creating a positive business impact are:\n",
        "\n",
        "Positive Business Impact\n",
        "Market Opportunities: The equal distribution across loan purposes (Home, Business, Education, Auto, and Other) suggests a diversified demand for loans. Financial institutions can leverage this insight to tailor their products and marketing strategies to cater to each segment, potentially increasing their market share and customer base.\n",
        "\n",
        "Product Development: Understanding the distribution of loan purposes allows for targeted product development. For instance, knowing that there is an equal interest in education and auto loans, a bank could develop specialized loan products with competitive interest rates or flexible repayment options for these segments.\n",
        "\n",
        "\n",
        "\n",
        "Potential Negative Growth\n",
        "However, there are also considerations that could lead to negative growth if not addressed properly:\n",
        "\n",
        "Overreliance on Equal Distribution: If the equal distribution is interpreted as a lack of market differentiation, financial institutions might not invest in understanding the nuanced needs of each segment. This could lead to generic loan products that do not meet the specific needs of borrowers, potentially leading to lower customer satisfaction and retention.\n",
        "\n",
        "Economic Sensitivity: Certain loan purposes may be more sensitive to economic fluctuations. For example, business and auto loans might see a decline in demand during economic downturns. Without a strategy to manage this risk, institutions could see a negative impact on their loan portfolios."
      ],
      "metadata": {
        "id": "GL8l1tdLp1cl"
      }
    },
    {
      "cell_type": "markdown",
      "source": [
        "#### Chart - 14 - Correlation Heatmap"
      ],
      "metadata": {
        "id": "NC_X3p0fY2L0"
      }
    },
    {
      "cell_type": "code",
      "source": [
        "# Correlation Heatmap visualization code\n",
        "# Correlation Heatmap visualization code\n",
        "correlation_matrix = data.corr(numeric_only=True)\n",
        "sns.heatmap(correlation_matrix, annot=True, cmap=\"coolwarm\", fmt=\".2f\")\n",
        "plt.title(\"Correlation Heatmap\")\n",
        "plt.show()"
      ],
      "metadata": {
        "id": "xyC9zolEZNRQ",
        "colab": {
          "base_uri": "https://localhost:8080/"
        },
        "outputId": "08dc0496-ba9e-4e8d-a368-bad8a670c61e"
      },
      "execution_count": null,
      "outputs": [
        {
          "output_type": "display_data",
          "data": {
            "text/plain": [
              "<Figure size 640x480 with 2 Axes>"
            ],
            "image/png": "[encoded data removed]"
          },
          "metadata": {}
        }
      ]
    },
    {
      "cell_type": "markdown",
      "source": [
        "##### 1. Why did you pick the specific chart?"
      ],
      "metadata": {
        "id": "UV0SzAkaZNRQ"
      }
    },
    {
      "cell_type": "markdown",
      "source": [
        "The specific chart chosen here is a correlation heatmap. This choice is suitable for visualizing the correlation between numeric variables in a dataset, providing a comprehensive overview of the relationships between different variables. Heatmaps are effective for identifying patterns and strengths of correlations between variables, making them particularly useful for exploratory data analysis and understanding the interplay between different factors within a dataset"
      ],
      "metadata": {
        "id": "DVPuT8LYZNRQ"
      }
    },
    {
      "cell_type": "markdown",
      "source": [
        "##### 2. What is/are the insight(s) found from the chart?"
      ],
      "metadata": {
        "id": "YPEH6qLeZNRQ"
      }
    },
    {
      "cell_type": "markdown",
      "source": [
        "The correlation heatmap  visualizes the relationships between various financial and personal factors. Let’s break down the insights:\n",
        "\n",
        "Weak Correlations: Most of the cells in the heatmap show very weak correlations. The color is close to white, indicating that the correlation coefficients are close to zero. This suggests that there are no strong linear relationships between the variables.\n",
        "\n",
        "\n",
        "Strongest Negative Correlation: The strongest negative correlation observed is between Age and Default with a coefficient of -0.17. This means that as age increases, the likelihood of default slightly decreases.\n",
        "\n",
        "Other Observations:\n",
        "\n",
        "Income and Loan Amount have a positive correlation (though weak).\n",
        "Credit Score and Interest Rate show a slight negative correlation.\n",
        "Months Employed and Number of Credit Lines have a positive correlation."
      ],
      "metadata": {
        "id": "bfSqtnDqZNRR"
      }
    },
    {
      "cell_type": "markdown",
      "source": [
        "#### Chart - 15 - Pair Plot"
      ],
      "metadata": {
        "id": "q29F0dvdveiT"
      }
    },
    {
      "cell_type": "code",
      "source": [
        "# # Pair Plot visualization code\n",
        "# sns.pairplot(data)\n",
        "# plt.title(\"Pair Plot\")\n",
        "# plt.show()"
      ],
      "metadata": {
        "id": "o58-TEIhveiU"
      },
      "execution_count": null,
      "outputs": []
    },
    {
      "cell_type": "markdown",
      "source": [
        "##### 1. Why did you pick the specific chart?"
      ],
      "metadata": {
        "id": "EXh0U9oCveiU"
      }
    },
    {
      "cell_type": "markdown",
      "source": [
        "The specific chart chosen here is a pair plot visualization. This choice was made because pair plots are particularly effective for exploring relationships between multiple variables simultaneously. Pair plots allow us to visualize the pairwise relationships between all numeric variables in the dataset, making it easier to identify patterns, trends, and potential correlations. This type of visualization is valuable for exploratory data analysis, especially when dealing with datasets containing several numeric variables, as it provides a comprehensive overview of the dataset's structure and relationships between variables. Additionally, pair plots are intuitive to interpret, making them suitable for both data exploration and communication of insights to stakeholders."
      ],
      "metadata": {
        "id": "eMmPjTByveiU"
      }
    },
    {
      "cell_type": "markdown",
      "source": [
        "##### 2. What is/are the insight(s) found from the chart?"
      ],
      "metadata": {
        "id": "22aHeOlLveiV"
      }
    },
    {
      "cell_type": "markdown",
      "source": [
        "Correlation between Variables: The pair plot allows us to visually assess the correlation between pairs of variables. A clear linear pattern in a scatter plot suggests a strong correlation, either positive or negative, between the two variables. This is valuable for identifying variables that might influence each other.\n",
        "\n",
        "Distribution Insights: The diagonal of the pair plot often contains histograms or density plots for each variable, providing a quick glance at the distribution of each variable. This can reveal if a variable is normally distributed, skewed, or has a bimodal distribution, which is essential for choosing appropriate statistical tests or models.\n",
        "\n",
        "Identification of Outliers: Scatter plots within the pair plot can help in identifying outliers. These are data points that deviate significantly from the overall pattern of data. Identifying outliers is crucial as they can have a significant impact on statistical analyses and model performance.\n",
        "\n",
        "These insights are foundational for exploratory data analysis, guiding the selection of variables for modeling, identifying potential data issues, and understanding the underlying structure of the dataset."
      ],
      "metadata": {
        "id": "uPQ8RGwHveiV"
      }
    },
    {
      "cell_type": "markdown",
      "source": [
        "## ***5. Feature Engineering & Data Pre-processing***"
      ],
      "metadata": {
        "id": "yLjJCtPM0KBk"
      }
    },
    {
      "cell_type": "markdown",
      "source": [
        "### 1. Handling Missing Values"
      ],
      "metadata": {
        "id": "xiyOF9F70UgQ"
      }
    },
    {
      "cell_type": "code",
      "source": [
        "# Handling Missing Values & Missing Value Imputation\n",
        "df.isnull().sum().reset_index()"
      ],
      "metadata": {
        "id": "iRsAHk1K0fpS",
        "colab": {
          "base_uri": "https://localhost:8080/",
          "height": 614
        },
        "outputId": "85f20a90-ef15-4bc1-82a0-dc0f3a718934"
      },
      "execution_count": null,
      "outputs": [
        {
          "output_type": "execute_result",
          "data": {
            "text/plain": [
              "             index  0\n",
              "0           LoanID  0\n",
              "1              Age  0\n",
              "2           Income  0\n",
              "3       LoanAmount  0\n",
              "4      CreditScore  0\n",
              "5   MonthsEmployed  0\n",
              "6   NumCreditLines  0\n",
              "7     InterestRate  0\n",
              "8         LoanTerm  0\n",
              "9         DTIRatio  0\n",
              "10       Education  0\n",
              "11  EmploymentType  0\n",
              "12   MaritalStatus  0\n",
              "13     HasMortgage  0\n",
              "14   HasDependents  0\n",
              "15     LoanPurpose  0\n",
              "16     HasCoSigner  0\n",
              "17         Default  0"
            ],
            "text/html": [
              "\n",
              "  <div id=\"df-1db8211e-e46a-4aef-b729-0f6dfaca7783\" class=\"colab-df-container\">\n",
              "    <div>\n",
              "<style scoped>\n",
              "    .dataframe tbody tr th:only-of-type {\n",
              "        vertical-align: middle;\n",
              "    }\n",
              "\n",
              "    .dataframe tbody tr th {\n",
              "        vertical-align: top;\n",
              "    }\n",
              "\n",
              "    .dataframe thead th {\n",
              "        text-align: right;\n",
              "    }\n",
              "</style>\n",
              "<table border=\"1\" class=\"dataframe\">\n",
              "  <thead>\n",
              "    <tr style=\"text-align: right;\">\n",
              "      <th></th>\n",
              "      <th>index</th>\n",
              "      <th>0</th>\n",
              "    </tr>\n",
              "  </thead>\n",
              "  <tbody>\n",
              "    <tr>\n",
              "      <th>0</th>\n",
              "      <td>LoanID</td>\n",
              "      <td>0</td>\n",
              "    </tr>\n",
              "    <tr>\n",
              "      <th>1</th>\n",
              "      <td>Age</td>\n",
              "      <td>0</td>\n",
              "    </tr>\n",
              "    <tr>\n",
              "      <th>2</th>\n",
              "      <td>Income</td>\n",
              "      <td>0</td>\n",
              "    </tr>\n",
              "    <tr>\n",
              "      <th>3</th>\n",
              "      <td>LoanAmount</td>\n",
              "      <td>0</td>\n",
              "    </tr>\n",
              "    <tr>\n",
              "      <th>4</th>\n",
              "      <td>CreditScore</td>\n",
              "      <td>0</td>\n",
              "    </tr>\n",
              "    <tr>\n",
              "      <th>5</th>\n",
              "      <td>MonthsEmployed</td>\n",
              "      <td>0</td>\n",
              "    </tr>\n",
              "    <tr>\n",
              "      <th>6</th>\n",
              "      <td>NumCreditLines</td>\n",
              "      <td>0</td>\n",
              "    </tr>\n",
              "    <tr>\n",
              "      <th>7</th>\n",
              "      <td>InterestRate</td>\n",
              "      <td>0</td>\n",
              "    </tr>\n",
              "    <tr>\n",
              "      <th>8</th>\n",
              "      <td>LoanTerm</td>\n",
              "      <td>0</td>\n",
              "    </tr>\n",
              "    <tr>\n",
              "      <th>9</th>\n",
              "      <td>DTIRatio</td>\n",
              "      <td>0</td>\n",
              "    </tr>\n",
              "    <tr>\n",
              "      <th>10</th>\n",
              "      <td>Education</td>\n",
              "      <td>0</td>\n",
              "    </tr>\n",
              "    <tr>\n",
              "      <th>11</th>\n",
              "      <td>EmploymentType</td>\n",
              "      <td>0</td>\n",
              "    </tr>\n",
              "    <tr>\n",
              "      <th>12</th>\n",
              "      <td>MaritalStatus</td>\n",
              "      <td>0</td>\n",
              "    </tr>\n",
              "    <tr>\n",
              "      <th>13</th>\n",
              "      <td>HasMortgage</td>\n",
              "      <td>0</td>\n",
              "    </tr>\n",
              "    <tr>\n",
              "      <th>14</th>\n",
              "      <td>HasDependents</td>\n",
              "      <td>0</td>\n",
              "    </tr>\n",
              "    <tr>\n",
              "      <th>15</th>\n",
              "      <td>LoanPurpose</td>\n",
              "      <td>0</td>\n",
              "    </tr>\n",
              "    <tr>\n",
              "      <th>16</th>\n",
              "      <td>HasCoSigner</td>\n",
              "      <td>0</td>\n",
              "    </tr>\n",
              "    <tr>\n",
              "      <th>17</th>\n",
              "      <td>Default</td>\n",
              "      <td>0</td>\n",
              "    </tr>\n",
              "  </tbody>\n",
              "</table>\n",
              "</div>\n",
              "    <div class=\"colab-df-buttons\">\n",
              "\n",
              "  <div class=\"colab-df-container\">\n",
              "    <button class=\"colab-df-convert\" onclick=\"convertToInteractive('df-1db8211e-e46a-4aef-b729-0f6dfaca7783')\"\n",
              "            title=\"Convert this dataframe to an interactive table.\"\n",
              "            style=\"display:none;\">\n",
              "\n",
              "  <svg xmlns=\"http://www.w3.org/2000/svg\" height=\"24px\" viewBox=\"0 -960 960 960\">\n",
              "    <path d=\"M120-120v-720h720v720H120Zm60-500h600v-160H180v160Zm220 220h160v-160H400v160Zm0 220h160v-160H400v160ZM180-400h160v-160H180v160Zm440 0h160v-160H620v160ZM180-180h160v-160H180v160Zm440 0h160v-160H620v160Z\"/>\n",
              "  </svg>\n",
              "    </button>\n",
              "\n",
              "  <style>\n",
              "    .colab-df-container {\n",
              "      display:flex;\n",
              "      gap: 12px;\n",
              "    }\n",
              "\n",
              "    .colab-df-convert {\n",
              "      background-color: #E8F0FE;\n",
              "      border: none;\n",
              "      border-radius: 50%;\n",
              "      cursor: pointer;\n",
              "      display: none;\n",
              "      fill: #1967D2;\n",
              "      height: 32px;\n",
              "      padding: 0 0 0 0;\n",
              "      width: 32px;\n",
              "    }\n",
              "\n",
              "    .colab-df-convert:hover {\n",
              "      background-color: #E2EBFA;\n",
              "      box-shadow: 0px 1px 2px rgba(60, 64, 67, 0.3), 0px 1px 3px 1px rgba(60, 64, 67, 0.15);\n",
              "      fill: #174EA6;\n",
              "    }\n",
              "\n",
              "    .colab-df-buttons div {\n",
              "      margin-bottom: 4px;\n",
              "    }\n",
              "\n",
              "    [theme=dark] .colab-df-convert {\n",
              "      background-color: #3B4455;\n",
              "      fill: #D2E3FC;\n",
              "    }\n",
              "\n",
              "    [theme=dark] .colab-df-convert:hover {\n",
              "      background-color: #434B5C;\n",
              "      box-shadow: 0px 1px 3px 1px rgba(0, 0, 0, 0.15);\n",
              "      filter: drop-shadow(0px 1px 2px rgba(0, 0, 0, 0.3));\n",
              "      fill: #FFFFFF;\n",
              "    }\n",
              "  </style>\n",
              "\n",
              "    <script>\n",
              "      const buttonEl =\n",
              "        document.querySelector('#df-1db8211e-e46a-4aef-b729-0f6dfaca7783 button.colab-df-convert');\n",
              "      buttonEl.style.display =\n",
              "        google.colab.kernel.accessAllowed ? 'block' : 'none';\n",
              "\n",
              "      async function convertToInteractive(key) {\n",
              "        const element = document.querySelector('#df-1db8211e-e46a-4aef-b729-0f6dfaca7783');\n",
              "        const dataTable =\n",
              "          await google.colab.kernel.invokeFunction('convertToInteractive',\n",
              "                                                    [key], {});\n",
              "        if (!dataTable) return;\n",
              "\n",
              "        const docLinkHtml = 'Like what you see? Visit the ' +\n",
              "          '<a target=\"_blank\" href=https://colab.research.google.com/notebooks/data_table.ipynb>data table notebook</a>'\n",
              "          + ' to learn more about interactive tables.';\n",
              "        element.innerHTML = '';\n",
              "        dataTable['output_type'] = 'display_data';\n",
              "        await google.colab.output.renderOutput(dataTable, element);\n",
              "        const docLink = document.createElement('div');\n",
              "        docLink.innerHTML = docLinkHtml;\n",
              "        element.appendChild(docLink);\n",
              "      }\n",
              "    </script>\n",
              "  </div>\n",
              "\n",
              "\n",
              "<div id=\"df-87cb756b-7504-4fe5-83db-c74d7a0ea500\">\n",
              "  <button class=\"colab-df-quickchart\" onclick=\"quickchart('df-87cb756b-7504-4fe5-83db-c74d7a0ea500')\"\n",
              "            title=\"Suggest charts\"\n",
              "            style=\"display:none;\">\n",
              "\n",
              "<svg xmlns=\"http://www.w3.org/2000/svg\" height=\"24px\"viewBox=\"0 0 24 24\"\n",
              "     width=\"24px\">\n",
              "    <g>\n",
              "        <path d=\"M19 3H5c-1.1 0-2 .9-2 2v14c0 1.1.9 2 2 2h14c1.1 0 2-.9 2-2V5c0-1.1-.9-2-2-2zM9 17H7v-7h2v7zm4 0h-2V7h2v10zm4 0h-2v-4h2v4z\"/>\n",
              "    </g>\n",
              "</svg>\n",
              "  </button>\n",
              "\n",
              "<style>\n",
              "  .colab-df-quickchart {\n",
              "      --bg-color: #E8F0FE;\n",
              "      --fill-color: #1967D2;\n",
              "      --hover-bg-color: #E2EBFA;\n",
              "      --hover-fill-color: #174EA6;\n",
              "      --disabled-fill-color: #AAA;\n",
              "      --disabled-bg-color: #DDD;\n",
              "  }\n",
              "\n",
              "  [theme=dark] .colab-df-quickchart {\n",
              "      --bg-color: #3B4455;\n",
              "      --fill-color: #D2E3FC;\n",
              "      --hover-bg-color: #434B5C;\n",
              "      --hover-fill-color: #FFFFFF;\n",
              "      --disabled-bg-color: #3B4455;\n",
              "      --disabled-fill-color: #666;\n",
              "  }\n",
              "\n",
              "  .colab-df-quickchart {\n",
              "    background-color: var(--bg-color);\n",
              "    border: none;\n",
              "    border-radius: 50%;\n",
              "    cursor: pointer;\n",
              "    display: none;\n",
              "    fill: var(--fill-color);\n",
              "    height: 32px;\n",
              "    padding: 0;\n",
              "    width: 32px;\n",
              "  }\n",
              "\n",
              "  .colab-df-quickchart:hover {\n",
              "    background-color: var(--hover-bg-color);\n",
              "    box-shadow: 0 1px 2px rgba(60, 64, 67, 0.3), 0 1px 3px 1px rgba(60, 64, 67, 0.15);\n",
              "    fill: var(--button-hover-fill-color);\n",
              "  }\n",
              "\n",
              "  .colab-df-quickchart-complete:disabled,\n",
              "  .colab-df-quickchart-complete:disabled:hover {\n",
              "    background-color: var(--disabled-bg-color);\n",
              "    fill: var(--disabled-fill-color);\n",
              "    box-shadow: none;\n",
              "  }\n",
              "\n",
              "  .colab-df-spinner {\n",
              "    border: 2px solid var(--fill-color);\n",
              "    border-color: transparent;\n",
              "    border-bottom-color: var(--fill-color);\n",
              "    animation:\n",
              "      spin 1s steps(1) infinite;\n",
              "  }\n",
              "\n",
              "  @keyframes spin {\n",
              "    0% {\n",
              "      border-color: transparent;\n",
              "      border-bottom-color: var(--fill-color);\n",
              "      border-left-color: var(--fill-color);\n",
              "    }\n",
              "    20% {\n",
              "      border-color: transparent;\n",
              "      border-left-color: var(--fill-color);\n",
              "      border-top-color: var(--fill-color);\n",
              "    }\n",
              "    30% {\n",
              "      border-color: transparent;\n",
              "      border-left-color: var(--fill-color);\n",
              "      border-top-color: var(--fill-color);\n",
              "      border-right-color: var(--fill-color);\n",
              "    }\n",
              "    40% {\n",
              "      border-color: transparent;\n",
              "      border-right-color: var(--fill-color);\n",
              "      border-top-color: var(--fill-color);\n",
              "    }\n",
              "    60% {\n",
              "      border-color: transparent;\n",
              "      border-right-color: var(--fill-color);\n",
              "    }\n",
              "    80% {\n",
              "      border-color: transparent;\n",
              "      border-right-color: var(--fill-color);\n",
              "      border-bottom-color: var(--fill-color);\n",
              "    }\n",
              "    90% {\n",
              "      border-color: transparent;\n",
              "      border-bottom-color: var(--fill-color);\n",
              "    }\n",
              "  }\n",
              "</style>\n",
              "\n",
              "  <script>\n",
              "    async function quickchart(key) {\n",
              "      const quickchartButtonEl =\n",
              "        document.querySelector('#' + key + ' button');\n",
              "      quickchartButtonEl.disabled = true;  // To prevent multiple clicks.\n",
              "      quickchartButtonEl.classList.add('colab-df-spinner');\n",
              "      try {\n",
              "        const charts = await google.colab.kernel.invokeFunction(\n",
              "            'suggestCharts', [key], {});\n",
              "      } catch (error) {\n",
              "        console.error('Error during call to suggestCharts:', error);\n",
              "      }\n",
              "      quickchartButtonEl.classList.remove('colab-df-spinner');\n",
              "      quickchartButtonEl.classList.add('colab-df-quickchart-complete');\n",
              "    }\n",
              "    (() => {\n",
              "      let quickchartButtonEl =\n",
              "        document.querySelector('#df-87cb756b-7504-4fe5-83db-c74d7a0ea500 button');\n",
              "      quickchartButtonEl.style.display =\n",
              "        google.colab.kernel.accessAllowed ? 'block' : 'none';\n",
              "    })();\n",
              "  </script>\n",
              "</div>\n",
              "\n",
              "    </div>\n",
              "  </div>\n"
            ],
            "application/vnd.google.colaboratory.intrinsic+json": {
              "type": "dataframe",
              "summary": "{\n  \"name\": \"df\",\n  \"rows\": 18,\n  \"fields\": [\n    {\n      \"column\": \"index\",\n      \"properties\": {\n        \"dtype\": \"string\",\n        \"num_unique_values\": 18,\n        \"samples\": [\n          \"LoanID\",\n          \"Age\",\n          \"LoanTerm\"\n        ],\n        \"semantic_type\": \"\",\n        \"description\": \"\"\n      }\n    },\n    {\n      \"column\": 0,\n      \"properties\": {\n        \"dtype\": \"number\",\n        \"std\": 0,\n        \"min\": 0,\n        \"max\": 0,\n        \"num_unique_values\": 1,\n        \"samples\": [\n          0\n        ],\n        \"semantic_type\": \"\",\n        \"description\": \"\"\n      }\n    }\n  ]\n}"
            }
          },
          "metadata": {},
          "execution_count": 28
        }
      ]
    },
    {
      "cell_type": "markdown",
      "source": [
        "#### What all missing value imputation techniques have you used and why did you use those techniques?"
      ],
      "metadata": {
        "id": "7wuGOrhz0itI"
      }
    },
    {
      "cell_type": "markdown",
      "source": [
        "Answer Here."
      ],
      "metadata": {
        "id": "1ixusLtI0pqI"
      }
    },
    {
      "cell_type": "markdown",
      "source": [
        "### 2. Handling Outliers"
      ],
      "metadata": {
        "id": "id1riN9m0vUs"
      }
    },
    {
      "cell_type": "code",
      "source": [
        "# Handling Outliers & Outlier treatments\n",
        "df.info()"
      ],
      "metadata": {
        "id": "M6w2CzZf04JK",
        "colab": {
          "base_uri": "https://localhost:8080/"
        },
        "outputId": "97067c64-bc7e-4095-bc7f-dd0a59fa7c63"
      },
      "execution_count": null,
      "outputs": [
        {
          "output_type": "stream",
          "name": "stdout",
          "text": [
            "<class 'pandas.core.frame.DataFrame'>\n",
            "RangeIndex: 255347 entries, 0 to 255346\n",
            "Data columns (total 18 columns):\n",
            " #   Column          Non-Null Count   Dtype  \n",
            "---  ------          --------------   -----  \n",
            " 0   LoanID          255347 non-null  object \n",
            " 1   Age             255347 non-null  int64  \n",
            " 2   Income          255347 non-null  int64  \n",
            " 3   LoanAmount      255347 non-null  int64  \n",
            " 4   CreditScore     255347 non-null  int64  \n",
            " 5   MonthsEmployed  255347 non-null  int64  \n",
            " 6   NumCreditLines  255347 non-null  int64  \n",
            " 7   InterestRate    255347 non-null  float64\n",
            " 8   LoanTerm        255347 non-null  int64  \n",
            " 9   DTIRatio        255347 non-null  float64\n",
            " 10  Education       255347 non-null  object \n",
            " 11  EmploymentType  255347 non-null  object \n",
            " 12  MaritalStatus   255347 non-null  object \n",
            " 13  HasMortgage     255347 non-null  object \n",
            " 14  HasDependents   255347 non-null  object \n",
            " 15  LoanPurpose     255347 non-null  object \n",
            " 16  HasCoSigner     255347 non-null  object \n",
            " 17  Default         255347 non-null  int64  \n",
            "dtypes: float64(2), int64(8), object(8)\n",
            "memory usage: 35.1+ MB\n"
          ]
        }
      ]
    },
    {
      "cell_type": "code",
      "source": [
        "df.shape"
      ],
      "metadata": {
        "id": "UYg_fHgB610M",
        "colab": {
          "base_uri": "https://localhost:8080/"
        },
        "outputId": "bd5b928b-6a3b-4551-f90a-57b89199110d"
      },
      "execution_count": null,
      "outputs": [
        {
          "output_type": "execute_result",
          "data": {
            "text/plain": [
              "(255347, 18)"
            ]
          },
          "metadata": {},
          "execution_count": 30
        }
      ]
    },
    {
      "cell_type": "code",
      "source": [
        "numerical_variables=['Age', 'Income', 'LoanAmount', 'CreditScore', 'MonthsEmployed', 'InterestRate', 'LoanTerm', 'DTIRatio',]"
      ],
      "metadata": {
        "id": "gPWRWyiD8GNN"
      },
      "execution_count": null,
      "outputs": []
    },
    {
      "cell_type": "code",
      "source": [
        "plt.figure(figsize=(20, 10))\n",
        "ind=1\n",
        "for  variable in (numerical_variables):\n",
        "    plt.subplot(3, 3, ind)\n",
        "    sns.boxplot(x=df[variable],color=\"red\")\n",
        "    plt.title(variable)\n",
        "    ind+=1\n",
        "    plt.xlabel('')\n",
        "plt.tight_layout()\n",
        "plt.show()"
      ],
      "metadata": {
        "id": "dhFhiEBV6EZ0",
        "colab": {
          "base_uri": "https://localhost:8080/",
          "height": 688
        },
        "outputId": "03d18b6d-4e83-4560-cf81-87f2bc670274"
      },
      "execution_count": null,
      "outputs": [
        {
          "output_type": "display_data",
          "data": {
            "text/plain": [
              "<Figure size 2000x1000 with 8 Axes>"
            ],
            "image/png": "[encoded data removed]"
          },
          "metadata": {}
        }
      ]
    },
    {
      "cell_type": "markdown",
      "source": [
        "##### What all outlier treatment techniques have you used and why did you use those techniques?"
      ],
      "metadata": {
        "id": "578E2V7j08f6"
      }
    },
    {
      "cell_type": "markdown",
      "source": [
        "Answer Here.\n",
        "\n",
        "There is no such data skewness or outliers is seen in the numerical data."
      ],
      "metadata": {
        "id": "uGZz5OrT1HH-"
      }
    },
    {
      "cell_type": "markdown",
      "source": [
        "### 3. Categorical Encoding"
      ],
      "metadata": {
        "id": "89xtkJwZ18nB"
      }
    },
    {
      "cell_type": "code",
      "source": [
        "# Encode your categorical columns\n",
        "from sklearn.preprocessing import OneHotEncoder"
      ],
      "metadata": {
        "id": "21JmIYMG2hEo"
      },
      "execution_count": null,
      "outputs": []
    },
    {
      "cell_type": "code",
      "source": [
        "#Taking a copy of  dataframe\n",
        "df_2=df.copy()"
      ],
      "metadata": {
        "id": "dOC0812d8VCb"
      },
      "execution_count": null,
      "outputs": []
    },
    {
      "cell_type": "code",
      "source": [
        "columns_to_encode = ['Education', 'EmploymentType', 'MaritalStatus', 'HasMortgage', 'HasDependents', 'LoanPurpose', 'HasCoSigner']"
      ],
      "metadata": {
        "id": "XKDlTYCG8YIX"
      },
      "execution_count": null,
      "outputs": []
    },
    {
      "cell_type": "code",
      "source": [
        "encoder = OneHotEncoder(sparse_output=False)\n",
        "encoded_columns = encoder.fit_transform(df_2[columns_to_encode])"
      ],
      "metadata": {
        "id": "lyw3EYoZ8c4Y"
      },
      "execution_count": null,
      "outputs": []
    },
    {
      "cell_type": "code",
      "source": [
        "encoded_feature_names = encoder.get_feature_names_out(input_features=columns_to_encode)\n",
        "encoded_df = pd.DataFrame(encoded_columns, columns=encoded_feature_names)"
      ],
      "metadata": {
        "id": "afys3Yqr8c7z"
      },
      "execution_count": null,
      "outputs": []
    },
    {
      "cell_type": "code",
      "source": [
        "df_2.drop(columns=columns_to_encode, inplace=True)\n",
        "#Concat the dataframes together\n",
        "df_2 = pd.concat([df_2, encoded_df], axis=1)"
      ],
      "metadata": {
        "id": "YASiG_qp8c-x"
      },
      "execution_count": null,
      "outputs": []
    },
    {
      "cell_type": "code",
      "source": [
        "print(\"Shape of the data after encoding :\",df_2.shape)\n",
        "df_2.head(2)"
      ],
      "metadata": {
        "id": "rFj4gu699Vns",
        "colab": {
          "base_uri": "https://localhost:8080/",
          "height": 179
        },
        "outputId": "deb99e41-7d82-437a-eabd-6cbcd759f113"
      },
      "execution_count": null,
      "outputs": [
        {
          "output_type": "stream",
          "name": "stdout",
          "text": [
            "Shape of the data after encoding : (255347, 33)\n"
          ]
        },
        {
          "output_type": "execute_result",
          "data": {
            "text/plain": [
              "       LoanID  Age  Income  LoanAmount  CreditScore  MonthsEmployed  \\\n",
              "0  I38PQUQS96   56   85994       50587          520              80   \n",
              "1  HPSK72WA7R   69   50432      124440          458              15   \n",
              "\n",
              "   NumCreditLines  InterestRate  LoanTerm  DTIRatio  ...  HasMortgage_Yes  \\\n",
              "0               4         15.23        36      0.44  ...              1.0   \n",
              "1               1          4.81        60      0.68  ...              0.0   \n",
              "\n",
              "   HasDependents_No  HasDependents_Yes  LoanPurpose_Auto  \\\n",
              "0               0.0                1.0               0.0   \n",
              "1               1.0                0.0               0.0   \n",
              "\n",
              "   LoanPurpose_Business  LoanPurpose_Education  LoanPurpose_Home  \\\n",
              "0                   0.0                    0.0               0.0   \n",
              "1                   0.0                    0.0               0.0   \n",
              "\n",
              "   LoanPurpose_Other  HasCoSigner_No  HasCoSigner_Yes  \n",
              "0                1.0             0.0              1.0  \n",
              "1                1.0             0.0              1.0  \n",
              "\n",
              "[2 rows x 33 columns]"
            ],
            "text/html": [
              "\n",
              "  <div id=\"df-becfab8c-e3af-4cff-a27d-91ca95c3dad9\" class=\"colab-df-container\">\n",
              "    <div>\n",
              "<style scoped>\n",
              "    .dataframe tbody tr th:only-of-type {\n",
              "        vertical-align: middle;\n",
              "    }\n",
              "\n",
              "    .dataframe tbody tr th {\n",
              "        vertical-align: top;\n",
              "    }\n",
              "\n",
              "    .dataframe thead th {\n",
              "        text-align: right;\n",
              "    }\n",
              "</style>\n",
              "<table border=\"1\" class=\"dataframe\">\n",
              "  <thead>\n",
              "    <tr style=\"text-align: right;\">\n",
              "      <th></th>\n",
              "      <th>LoanID</th>\n",
              "      <th>Age</th>\n",
              "      <th>Income</th>\n",
              "      <th>LoanAmount</th>\n",
              "      <th>CreditScore</th>\n",
              "      <th>MonthsEmployed</th>\n",
              "      <th>NumCreditLines</th>\n",
              "      <th>InterestRate</th>\n",
              "      <th>LoanTerm</th>\n",
              "      <th>DTIRatio</th>\n",
              "      <th>...</th>\n",
              "      <th>HasMortgage_Yes</th>\n",
              "      <th>HasDependents_No</th>\n",
              "      <th>HasDependents_Yes</th>\n",
              "      <th>LoanPurpose_Auto</th>\n",
              "      <th>LoanPurpose_Business</th>\n",
              "      <th>LoanPurpose_Education</th>\n",
              "      <th>LoanPurpose_Home</th>\n",
              "      <th>LoanPurpose_Other</th>\n",
              "      <th>HasCoSigner_No</th>\n",
              "      <th>HasCoSigner_Yes</th>\n",
              "    </tr>\n",
              "  </thead>\n",
              "  <tbody>\n",
              "    <tr>\n",
              "      <th>0</th>\n",
              "      <td>I38PQUQS96</td>\n",
              "      <td>56</td>\n",
              "      <td>85994</td>\n",
              "      <td>50587</td>\n",
              "      <td>520</td>\n",
              "      <td>80</td>\n",
              "      <td>4</td>\n",
              "      <td>15.23</td>\n",
              "      <td>36</td>\n",
              "      <td>0.44</td>\n",
              "      <td>...</td>\n",
              "      <td>1.0</td>\n",
              "      <td>0.0</td>\n",
              "      <td>1.0</td>\n",
              "      <td>0.0</td>\n",
              "      <td>0.0</td>\n",
              "      <td>0.0</td>\n",
              "      <td>0.0</td>\n",
              "      <td>1.0</td>\n",
              "      <td>0.0</td>\n",
              "      <td>1.0</td>\n",
              "    </tr>\n",
              "    <tr>\n",
              "      <th>1</th>\n",
              "      <td>HPSK72WA7R</td>\n",
              "      <td>69</td>\n",
              "      <td>50432</td>\n",
              "      <td>124440</td>\n",
              "      <td>458</td>\n",
              "      <td>15</td>\n",
              "      <td>1</td>\n",
              "      <td>4.81</td>\n",
              "      <td>60</td>\n",
              "      <td>0.68</td>\n",
              "      <td>...</td>\n",
              "      <td>0.0</td>\n",
              "      <td>1.0</td>\n",
              "      <td>0.0</td>\n",
              "      <td>0.0</td>\n",
              "      <td>0.0</td>\n",
              "      <td>0.0</td>\n",
              "      <td>0.0</td>\n",
              "      <td>1.0</td>\n",
              "      <td>0.0</td>\n",
              "      <td>1.0</td>\n",
              "    </tr>\n",
              "  </tbody>\n",
              "</table>\n",
              "<p>2 rows × 33 columns</p>\n",
              "</div>\n",
              "    <div class=\"colab-df-buttons\">\n",
              "\n",
              "  <div class=\"colab-df-container\">\n",
              "    <button class=\"colab-df-convert\" onclick=\"convertToInteractive('df-becfab8c-e3af-4cff-a27d-91ca95c3dad9')\"\n",
              "            title=\"Convert this dataframe to an interactive table.\"\n",
              "            style=\"display:none;\">\n",
              "\n",
              "  <svg xmlns=\"http://www.w3.org/2000/svg\" height=\"24px\" viewBox=\"0 -960 960 960\">\n",
              "    <path d=\"M120-120v-720h720v720H120Zm60-500h600v-160H180v160Zm220 220h160v-160H400v160Zm0 220h160v-160H400v160ZM180-400h160v-160H180v160Zm440 0h160v-160H620v160ZM180-180h160v-160H180v160Zm440 0h160v-160H620v160Z\"/>\n",
              "  </svg>\n",
              "    </button>\n",
              "\n",
              "  <style>\n",
              "    .colab-df-container {\n",
              "      display:flex;\n",
              "      gap: 12px;\n",
              "    }\n",
              "\n",
              "    .colab-df-convert {\n",
              "      background-color: #E8F0FE;\n",
              "      border: none;\n",
              "      border-radius: 50%;\n",
              "      cursor: pointer;\n",
              "      display: none;\n",
              "      fill: #1967D2;\n",
              "      height: 32px;\n",
              "      padding: 0 0 0 0;\n",
              "      width: 32px;\n",
              "    }\n",
              "\n",
              "    .colab-df-convert:hover {\n",
              "      background-color: #E2EBFA;\n",
              "      box-shadow: 0px 1px 2px rgba(60, 64, 67, 0.3), 0px 1px 3px 1px rgba(60, 64, 67, 0.15);\n",
              "      fill: #174EA6;\n",
              "    }\n",
              "\n",
              "    .colab-df-buttons div {\n",
              "      margin-bottom: 4px;\n",
              "    }\n",
              "\n",
              "    [theme=dark] .colab-df-convert {\n",
              "      background-color: #3B4455;\n",
              "      fill: #D2E3FC;\n",
              "    }\n",
              "\n",
              "    [theme=dark] .colab-df-convert:hover {\n",
              "      background-color: #434B5C;\n",
              "      box-shadow: 0px 1px 3px 1px rgba(0, 0, 0, 0.15);\n",
              "      filter: drop-shadow(0px 1px 2px rgba(0, 0, 0, 0.3));\n",
              "      fill: #FFFFFF;\n",
              "    }\n",
              "  </style>\n",
              "\n",
              "    <script>\n",
              "      const buttonEl =\n",
              "        document.querySelector('#df-becfab8c-e3af-4cff-a27d-91ca95c3dad9 button.colab-df-convert');\n",
              "      buttonEl.style.display =\n",
              "        google.colab.kernel.accessAllowed ? 'block' : 'none';\n",
              "\n",
              "      async function convertToInteractive(key) {\n",
              "        const element = document.querySelector('#df-becfab8c-e3af-4cff-a27d-91ca95c3dad9');\n",
              "        const dataTable =\n",
              "          await google.colab.kernel.invokeFunction('convertToInteractive',\n",
              "                                                    [key], {});\n",
              "        if (!dataTable) return;\n",
              "\n",
              "        const docLinkHtml = 'Like what you see? Visit the ' +\n",
              "          '<a target=\"_blank\" href=https://colab.research.google.com/notebooks/data_table.ipynb>data table notebook</a>'\n",
              "          + ' to learn more about interactive tables.';\n",
              "        element.innerHTML = '';\n",
              "        dataTable['output_type'] = 'display_data';\n",
              "        await google.colab.output.renderOutput(dataTable, element);\n",
              "        const docLink = document.createElement('div');\n",
              "        docLink.innerHTML = docLinkHtml;\n",
              "        element.appendChild(docLink);\n",
              "      }\n",
              "    </script>\n",
              "  </div>\n",
              "\n",
              "\n",
              "<div id=\"df-95c6710f-04d9-4538-80e0-fe9ebd4ddfb4\">\n",
              "  <button class=\"colab-df-quickchart\" onclick=\"quickchart('df-95c6710f-04d9-4538-80e0-fe9ebd4ddfb4')\"\n",
              "            title=\"Suggest charts\"\n",
              "            style=\"display:none;\">\n",
              "\n",
              "<svg xmlns=\"http://www.w3.org/2000/svg\" height=\"24px\"viewBox=\"0 0 24 24\"\n",
              "     width=\"24px\">\n",
              "    <g>\n",
              "        <path d=\"M19 3H5c-1.1 0-2 .9-2 2v14c0 1.1.9 2 2 2h14c1.1 0 2-.9 2-2V5c0-1.1-.9-2-2-2zM9 17H7v-7h2v7zm4 0h-2V7h2v10zm4 0h-2v-4h2v4z\"/>\n",
              "    </g>\n",
              "</svg>\n",
              "  </button>\n",
              "\n",
              "<style>\n",
              "  .colab-df-quickchart {\n",
              "      --bg-color: #E8F0FE;\n",
              "      --fill-color: #1967D2;\n",
              "      --hover-bg-color: #E2EBFA;\n",
              "      --hover-fill-color: #174EA6;\n",
              "      --disabled-fill-color: #AAA;\n",
              "      --disabled-bg-color: #DDD;\n",
              "  }\n",
              "\n",
              "  [theme=dark] .colab-df-quickchart {\n",
              "      --bg-color: #3B4455;\n",
              "      --fill-color: #D2E3FC;\n",
              "      --hover-bg-color: #434B5C;\n",
              "      --hover-fill-color: #FFFFFF;\n",
              "      --disabled-bg-color: #3B4455;\n",
              "      --disabled-fill-color: #666;\n",
              "  }\n",
              "\n",
              "  .colab-df-quickchart {\n",
              "    background-color: var(--bg-color);\n",
              "    border: none;\n",
              "    border-radius: 50%;\n",
              "    cursor: pointer;\n",
              "    display: none;\n",
              "    fill: var(--fill-color);\n",
              "    height: 32px;\n",
              "    padding: 0;\n",
              "    width: 32px;\n",
              "  }\n",
              "\n",
              "  .colab-df-quickchart:hover {\n",
              "    background-color: var(--hover-bg-color);\n",
              "    box-shadow: 0 1px 2px rgba(60, 64, 67, 0.3), 0 1px 3px 1px rgba(60, 64, 67, 0.15);\n",
              "    fill: var(--button-hover-fill-color);\n",
              "  }\n",
              "\n",
              "  .colab-df-quickchart-complete:disabled,\n",
              "  .colab-df-quickchart-complete:disabled:hover {\n",
              "    background-color: var(--disabled-bg-color);\n",
              "    fill: var(--disabled-fill-color);\n",
              "    box-shadow: none;\n",
              "  }\n",
              "\n",
              "  .colab-df-spinner {\n",
              "    border: 2px solid var(--fill-color);\n",
              "    border-color: transparent;\n",
              "    border-bottom-color: var(--fill-color);\n",
              "    animation:\n",
              "      spin 1s steps(1) infinite;\n",
              "  }\n",
              "\n",
              "  @keyframes spin {\n",
              "    0% {\n",
              "      border-color: transparent;\n",
              "      border-bottom-color: var(--fill-color);\n",
              "      border-left-color: var(--fill-color);\n",
              "    }\n",
              "    20% {\n",
              "      border-color: transparent;\n",
              "      border-left-color: var(--fill-color);\n",
              "      border-top-color: var(--fill-color);\n",
              "    }\n",
              "    30% {\n",
              "      border-color: transparent;\n",
              "      border-left-color: var(--fill-color);\n",
              "      border-top-color: var(--fill-color);\n",
              "      border-right-color: var(--fill-color);\n",
              "    }\n",
              "    40% {\n",
              "      border-color: transparent;\n",
              "      border-right-color: var(--fill-color);\n",
              "      border-top-color: var(--fill-color);\n",
              "    }\n",
              "    60% {\n",
              "      border-color: transparent;\n",
              "      border-right-color: var(--fill-color);\n",
              "    }\n",
              "    80% {\n",
              "      border-color: transparent;\n",
              "      border-right-color: var(--fill-color);\n",
              "      border-bottom-color: var(--fill-color);\n",
              "    }\n",
              "    90% {\n",
              "      border-color: transparent;\n",
              "      border-bottom-color: var(--fill-color);\n",
              "    }\n",
              "  }\n",
              "</style>\n",
              "\n",
              "  <script>\n",
              "    async function quickchart(key) {\n",
              "      const quickchartButtonEl =\n",
              "        document.querySelector('#' + key + ' button');\n",
              "      quickchartButtonEl.disabled = true;  // To prevent multiple clicks.\n",
              "      quickchartButtonEl.classList.add('colab-df-spinner');\n",
              "      try {\n",
              "        const charts = await google.colab.kernel.invokeFunction(\n",
              "            'suggestCharts', [key], {});\n",
              "      } catch (error) {\n",
              "        console.error('Error during call to suggestCharts:', error);\n",
              "      }\n",
              "      quickchartButtonEl.classList.remove('colab-df-spinner');\n",
              "      quickchartButtonEl.classList.add('colab-df-quickchart-complete');\n",
              "    }\n",
              "    (() => {\n",
              "      let quickchartButtonEl =\n",
              "        document.querySelector('#df-95c6710f-04d9-4538-80e0-fe9ebd4ddfb4 button');\n",
              "      quickchartButtonEl.style.display =\n",
              "        google.colab.kernel.accessAllowed ? 'block' : 'none';\n",
              "    })();\n",
              "  </script>\n",
              "</div>\n",
              "\n",
              "    </div>\n",
              "  </div>\n"
            ],
            "application/vnd.google.colaboratory.intrinsic+json": {
              "type": "dataframe",
              "variable_name": "df_2"
            }
          },
          "metadata": {},
          "execution_count": 39
        }
      ]
    },
    {
      "cell_type": "markdown",
      "source": [
        "#### What all categorical encoding techniques have you used & why did you use those techniques?"
      ],
      "metadata": {
        "id": "67NQN5KX2AMe"
      }
    },
    {
      "cell_type": "markdown",
      "source": [
        "Answer Here."
      ],
      "metadata": {
        "id": "UDaue5h32n_G"
      }
    },
    {
      "cell_type": "markdown",
      "source": [
        "### 8. Data Splitting"
      ],
      "metadata": {
        "id": "BhH2vgX9EjGr"
      }
    },
    {
      "cell_type": "code",
      "source": [
        "# Split your data to train and test. Choose Splitting ratio wisely.\n",
        "#Import necessary Libraries\n",
        "from sklearn.model_selection import train_test_split\n",
        "from sklearn.tree import DecisionTreeClassifier\n",
        "from sklearn.ensemble import RandomForestClassifier\n",
        "import xgboost as xgb\n",
        "from sklearn.svm import SVC\n",
        "from sklearn.model_selection import cross_val_score, KFold"
      ],
      "metadata": {
        "id": "0CTyd2UwEyNM"
      },
      "execution_count": null,
      "outputs": []
    },
    {
      "cell_type": "code",
      "source": [
        "x=df_2.drop(columns=[\"LoanID\",\"Default\"])\n",
        "y=df_2[\"Default\"]\n",
        "print(\"Shape of the feature variables:\",x.shape)\n",
        "print(\"Shape of the target variable:\",y.shape)"
      ],
      "metadata": {
        "id": "VPjkUBc0BTd-",
        "colab": {
          "base_uri": "https://localhost:8080/"
        },
        "outputId": "4e4ede8f-a9ee-48e8-d11f-9a54fb337ab3"
      },
      "execution_count": null,
      "outputs": [
        {
          "output_type": "stream",
          "name": "stdout",
          "text": [
            "Shape of the feature variables: (255347, 31)\n",
            "Shape of the target variable: (255347,)\n"
          ]
        }
      ]
    },
    {
      "cell_type": "code",
      "source": [
        "x_train,x_test,y_train,y_test = train_test_split(x,y,test_size=0.2,random_state=42)"
      ],
      "metadata": {
        "id": "-wZk0SCzBQAl"
      },
      "execution_count": null,
      "outputs": []
    },
    {
      "cell_type": "markdown",
      "source": [
        "##### What data splitting ratio have you used and why?"
      ],
      "metadata": {
        "id": "qjKvONjwE8ra"
      }
    },
    {
      "cell_type": "markdown",
      "source": [
        "Answer Here.\n",
        "i took 20% of test size and 80% of train size beacuse we dont have huge dataset and we want data splitted perfectly."
      ],
      "metadata": {
        "id": "Y2lJ8cobFDb_"
      }
    },
    {
      "cell_type": "markdown",
      "source": [
        "### 6. Data Scaling"
      ],
      "metadata": {
        "id": "rMDnDkt2B6du"
      }
    },
    {
      "cell_type": "code",
      "source": [
        "# Scaling your data\n",
        "from sklearn.preprocessing import StandardScaler\n",
        "scaler = StandardScaler()\n",
        "x_train =  scaler.fit_transform(x_train)\n",
        "x_test=  scaler.fit_transform(x_test)"
      ],
      "metadata": {
        "id": "dL9LWpySC6x_"
      },
      "execution_count": null,
      "outputs": []
    },
    {
      "cell_type": "markdown",
      "source": [
        "##### Which method have you used to scale you data and why?"
      ],
      "metadata": {
        "id": "yiiVWRdJDDil"
      }
    },
    {
      "cell_type": "markdown",
      "source": [
        "Answe Here\n",
        "\n",
        "Scaling is very important for numerical fetures for creating a better model.\n",
        "\n",
        "There are two types of scaling technique\n",
        "1-Minamxscaler\n",
        "2-Standardscaler\n",
        "\n",
        "Here i used Standarscaler because it standardizes features by subtracting the mean value from the feature and then dividing the result by feature standard deviation."
      ],
      "metadata": {
        "id": "K-V7KC4f6fks"
      }
    },
    {
      "cell_type": "markdown",
      "source": [
        "## ***6. ML Model Implementation***"
      ],
      "metadata": {
        "id": "VfCC591jGiD4"
      }
    },
    {
      "cell_type": "code",
      "source": [
        "from sklearn.model_selection import GridSearchCV\n",
        "from sklearn.ensemble import RandomForestClassifier\n",
        "from sklearn.linear_model import LogisticRegression\n",
        "from sklearn.neighbors import KNeighborsClassifier\n",
        "from sklearn.svm import SVC\n",
        "from sklearn.metrics import precision_score,recall_score,accuracy_score,f1_score, roc_curve\n",
        "from sklearn.metrics import classification_report,confusion_matrix"
      ],
      "metadata": {
        "id": "vLNpCsPeDh4r"
      },
      "execution_count": null,
      "outputs": []
    },
    {
      "cell_type": "code",
      "source": [
        "# lets define a function for evolution metrics\n",
        "def print_metrics(actual,prediction,model=''):\n",
        "  print(f'{model} Test accuracy Score', accuracy_score(actual,prediction))\n",
        "  print(classification_report(actual,prediction))\n",
        "\n",
        "  return confusion_matrix(actual,prediction)"
      ],
      "metadata": {
        "id": "wy8ZR2zMDRVR"
      },
      "execution_count": null,
      "outputs": []
    },
    {
      "cell_type": "markdown",
      "source": [
        "### ML Model - 1-Logistic Regression"
      ],
      "metadata": {
        "id": "fvdjh7bSDYUw"
      }
    },
    {
      "cell_type": "code",
      "source": [
        "# ML Model - 1 Implementation\n",
        "from sklearn.model_selection import cross_val_score,ShuffleSplit,cross_val_predict\n",
        "\n",
        "lr = LogisticRegression(max_iter=4000)\n",
        "# Fit the Algorithm\n",
        "lr.fit(x_train,y_train)\n",
        "# Predict on the model\n",
        "y_pred_lr = lr.predict(x_test)\n",
        "\n"
      ],
      "metadata": {
        "id": "N2t6Mnl5DYU6"
      },
      "execution_count": null,
      "outputs": []
    },
    {
      "cell_type": "markdown",
      "source": [
        "#### 1. Explain the ML Model used and it's performance using Evaluation metric Score Chart."
      ],
      "metadata": {
        "id": "D5SC81fGDYU6"
      }
    },
    {
      "cell_type": "code",
      "source": [
        "# Visualizing evaluation Metric Score chart\n",
        "print_metrics(y_test,y_pred_lr,'LogisticRegression')"
      ],
      "metadata": {
        "id": "NqQsbsYjDYU6",
        "colab": {
          "base_uri": "https://localhost:8080/"
        },
        "outputId": "f46b7289-0d55-4c61-a659-d240fd6f1f69"
      },
      "execution_count": null,
      "outputs": [
        {
          "output_type": "stream",
          "name": "stdout",
          "text": [
            "LogisticRegression Test accuracy Score 0.8858429606422558\n",
            "              precision    recall  f1-score   support\n",
            "\n",
            "           0       0.89      1.00      0.94     45170\n",
            "           1       0.61      0.03      0.06      5900\n",
            "\n",
            "    accuracy                           0.89     51070\n",
            "   macro avg       0.75      0.52      0.50     51070\n",
            "weighted avg       0.86      0.89      0.84     51070\n",
            "\n"
          ]
        },
        {
          "output_type": "execute_result",
          "data": {
            "text/plain": [
              "array([[45045,   125],\n",
              "       [ 5705,   195]])"
            ]
          },
          "metadata": {},
          "execution_count": 47
        }
      ]
    },
    {
      "cell_type": "markdown",
      "source": [
        "#### 2. Cross- Validation & Hyperparameter Tuning"
      ],
      "metadata": {
        "id": "_2ZoYXIBDYU6"
      }
    },
    {
      "cell_type": "markdown",
      "source": [
        "##### Which hyperparameter optimization technique have you used and why?"
      ],
      "metadata": {
        "id": "4eR22kLgDYU6"
      }
    },
    {
      "cell_type": "markdown",
      "source": [
        "Answer Here.\n",
        "\n",
        "We have used cross val score here because this cross validation method gives you a better understanding of model performance over the whole dataset instead of just a single train/test split."
      ],
      "metadata": {
        "id": "OIYcUm6LDYU6"
      }
    },
    {
      "cell_type": "markdown",
      "source": [
        "##### Have you seen any improvement? Note down the improvement with updates Evaluation metric Score Chart."
      ],
      "metadata": {
        "id": "47MuTeerDYU7"
      }
    },
    {
      "cell_type": "markdown",
      "source": [
        "Answer Here.\n",
        "\n",
        "We have directly applied hyperparameter tuning in logistic regression.\n",
        "\n",
        "**Logistic Regression Test Accuracy = 88.50%**"
      ],
      "metadata": {
        "id": "TcjMhpVrDYU7"
      }
    },
    {
      "cell_type": "markdown",
      "source": [
        "### ML Model - 2 Decision Tree"
      ],
      "metadata": {
        "id": "Fze-IPXLpx6K"
      }
    },
    {
      "cell_type": "code",
      "source": [
        "from sklearn.tree import DecisionTreeClassifier\n",
        "\n",
        "dt = DecisionTreeClassifier()\n",
        "dt.fit(x_train, y_train)\n",
        "y_pred_dt = dt.predict(x_test)\n",
        "print_metrics(y_test, y_pred_dt, 'DecisionTreeClassifier')\n"
      ],
      "metadata": {
        "id": "FFrSXAtrpx6M",
        "colab": {
          "base_uri": "https://localhost:8080/"
        },
        "outputId": "251b2b0a-f65b-4796-a7c9-6038b53a6bbf"
      },
      "execution_count": null,
      "outputs": [
        {
          "output_type": "stream",
          "name": "stdout",
          "text": [
            "DecisionTreeClassifier Test accuracy Score 0.802545525748972\n",
            "              precision    recall  f1-score   support\n",
            "\n",
            "           0       0.90      0.88      0.89     45170\n",
            "           1       0.20      0.23      0.21      5900\n",
            "\n",
            "    accuracy                           0.80     51070\n",
            "   macro avg       0.55      0.55      0.55     51070\n",
            "weighted avg       0.82      0.80      0.81     51070\n",
            "\n"
          ]
        },
        {
          "output_type": "execute_result",
          "data": {
            "text/plain": [
              "array([[39624,  5546],\n",
              "       [ 4538,  1362]])"
            ]
          },
          "metadata": {},
          "execution_count": 48
        }
      ]
    },
    {
      "cell_type": "markdown",
      "source": [
        "#### 1. Explain the ML Model used and it's performance using Evaluation metric Score Chart."
      ],
      "metadata": {
        "id": "7AN1z2sKpx6M"
      }
    },
    {
      "cell_type": "code",
      "source": [
        "# Visualizing evaluation Metric Score chart"
      ],
      "metadata": {
        "id": "xIY4lxxGpx6M"
      },
      "execution_count": null,
      "outputs": []
    },
    {
      "cell_type": "markdown",
      "source": [
        "### ML Model - 3"
      ],
      "metadata": {
        "id": "SWrUANwmg2_Z"
      }
    },
    {
      "cell_type": "code",
      "source": [
        "# prompt: knn\n",
        "\n",
        "knn = KNeighborsClassifier(n_neighbors=3)\n",
        "knn.fit(x_train, y_train)\n",
        "y_pred_knn = knn.predict(x_test)\n",
        "print_metrics(y_test, y_pred_knn, 'KNeighborsClassifier')\n"
      ],
      "metadata": {
        "id": "xHDGiFSOqjem",
        "colab": {
          "base_uri": "https://localhost:8080/"
        },
        "outputId": "6f006f59-eef0-4ee9-de04-49314ee2acb4"
      },
      "execution_count": null,
      "outputs": [
        {
          "output_type": "stream",
          "name": "stdout",
          "text": [
            "KNeighborsClassifier Test accuracy Score 0.8615038182886234\n",
            "              precision    recall  f1-score   support\n",
            "\n",
            "           0       0.89      0.96      0.92     45170\n",
            "           1       0.23      0.08      0.12      5900\n",
            "\n",
            "    accuracy                           0.86     51070\n",
            "   macro avg       0.56      0.52      0.52     51070\n",
            "weighted avg       0.81      0.86      0.83     51070\n",
            "\n"
          ]
        },
        {
          "output_type": "execute_result",
          "data": {
            "text/plain": [
              "array([[43508,  1662],\n",
              "       [ 5411,   489]])"
            ]
          },
          "metadata": {},
          "execution_count": 50
        }
      ]
    },
    {
      "cell_type": "markdown",
      "source": [
        "##Conclusion"
      ],
      "metadata": {
        "id": "p2yjDru0tN3l"
      }
    },
    {
      "cell_type": "code",
      "source": [
        "# Create a dictionary to store the results of each model\n",
        "model_results = {\n",
        "    \"Logistic Regression\": {\n",
        "        \"Accuracy\": accuracy_score(y_test, y_pred_lr)\n",
        "    },\n",
        "    \"Decision Tree\": {\n",
        "        \"Accuracy\": accuracy_score(y_test, y_pred_dt)\n",
        "    },\n",
        "    \"KNN\": {\n",
        "        \"Accuracy\": accuracy_score(y_test, y_pred_knn)\n",
        "    }\n",
        "}\n",
        "\n",
        "# Create a DataFrame to display the results\n",
        "results_df = pd.DataFrame(model_results).transpose()\n",
        "\n",
        "# Display the DataFrame\n",
        "print(results_df)\n"
      ],
      "metadata": {
        "colab": {
          "base_uri": "https://localhost:8080/"
        },
        "id": "qgt4h5qrtYoc",
        "outputId": "e5a931d7-c04e-48dd-9c0e-cac186e66f8e"
      },
      "execution_count": null,
      "outputs": [
        {
          "output_type": "stream",
          "name": "stdout",
          "text": [
            "                     Accuracy\n",
            "Logistic Regression  0.885843\n",
            "Decision Tree        0.802546\n",
            "KNN                  0.861504\n"
          ]
        }
      ]
    },
    {
      "cell_type": "markdown",
      "source": [
        "Based on the accuracy scores, the Logistic Regression model has the highest accuracy at 0.885843, followed by the K-Nearest Neighbors (KNN) model at 0.861504, and the Decision Tree model at 0.802546.\n",
        "\n",
        "So, Logistic regression is the best model and we can use it for our prediction."
      ],
      "metadata": {
        "id": "2zPfzUabtncp"
      }
    },
    {
      "cell_type": "code",
      "source": [
        "#predict value using logistic regression\n",
        "import numpy as np\n",
        "from sklearn.linear_model import LogisticRegression\n",
        "model = LogisticRegression()\n",
        "\n",
        "# Define the input values (ensure this has 31 features)\n",
        "input_data = (50, 100000, 10000, 700, 10, 5, 36, 1, 1, 1, 0, 1, 0, 1, 1, 0, 0, 0, 0, 0, 1, 0, 0, 0, 0, 0, 0, 0, 0, 0, 0)\n",
        "\n",
        "# Convert the input data to a NumPy array\n",
        "input_data_as_numpy_array = np.asarray(input_data)\n",
        "\n",
        "# Reshape the NumPy array to a single instance with multiple features\n",
        "input_data_reshaped = input_data_as_numpy_array.reshape(1, -1)\n",
        "\n",
        "# Fit the model with training data\n",
        "model.fit(x_train, y_train)\n",
        "\n",
        "# Predict the probability of default\n",
        "prediction = model.predict_proba(input_data_reshaped)\n",
        "\n",
        "# Print the prediction\n",
        "print(prediction)\n"
      ],
      "metadata": {
        "colab": {
          "base_uri": "https://localhost:8080/"
        },
        "id": "xhXCymQJtwpE",
        "outputId": "36a4e75b-a1f0-45a1-e6e1-2c2624f47468"
      },
      "execution_count": null,
      "outputs": [
        {
          "output_type": "stream",
          "name": "stdout",
          "text": [
            "[[1. 0.]]\n"
          ]
        }
      ]
    },
    {
      "cell_type": "markdown",
      "source": [
        "### ***Congrats! Your model is successfully created and ready for deployment on a live server for a real user interaction !!!***"
      ],
      "metadata": {
        "id": "-Kee-DAl2viO"
      }
    }
  ]
}